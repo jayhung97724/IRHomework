{
 "cells": [
  {
   "cell_type": "code",
   "execution_count": 2,
   "metadata": {},
   "outputs": [
    {
     "name": "stdout",
     "output_type": "stream",
     "text": [
      "Mozillia/5.0 (PPC; rv:1.0) Gecko/20050112 Firefox/1.0\n"
     ]
    }
   ],
   "source": [
    "import urllib2\n",
    "import math\n",
    "import re\n",
    "from bs4 import BeautifulSoup\n",
    "from pprint import pprint\n",
    "from threading import Thread\n",
    "from collections import deque\n",
    "import time\n",
    "from ua import UserAgent"
   ]
  },
  {
   "cell_type": "code",
   "execution_count": 3,
   "metadata": {
    "collapsed": true
   },
   "outputs": [],
   "source": [
    "class GoogleSearch:\n",
    "    USER_AGENT = \"Mozilla/5.0 (Macintosh; Intel Mac OS X 10_12_6) AppleWebKit/603.3.8 (KHTML, like Gecko) Version/10.1.2 Safari/603.3.8\"\n",
    "    SEARCH_URL = \"https://google.com/search\"\n",
    "    RESULT_SELECTOR = \".srg h3.r a\"\n",
    "    TOTAL_SELECTOR = \"#resultStats\"\n",
    "    RESULTS_PER_PAGE = 10\n",
    "    DEFAULT_HEADERS = [\n",
    "            ('User-Agent', USER_AGENT),\n",
    "            (\"Accept-Language\", \"en-US,en;q=0.5\"),\n",
    "        ]\n",
    "\n",
    "    def search(self, query, num_results = 10, prefetch_pages = True, prefetch_threads = 10, language = \"en\"):\n",
    "        searchResults = []\n",
    "        pages = int(math.ceil(num_results / float(GoogleSearch.RESULTS_PER_PAGE)));\n",
    "        fetcher_threads = deque([])\n",
    "        total = None;\n",
    "        ua = UserAgent()\n",
    "        ua = ua.random()\n",
    "        DEFAULT_HEADERS = [\n",
    "            ('User-Agent', ua),\n",
    "            (\"Accept-Language\", \"en-US,en;q=0.5\"),\n",
    "        ]\n",
    "        print ua\n",
    "        print 'pg: ', pages\n",
    "        for i in range(pages) :\n",
    "            start = i * GoogleSearch.RESULTS_PER_PAGE\n",
    "            print 'start: ', start \n",
    "            opener = urllib2.build_opener()\n",
    "            opener.addheaders = GoogleSearch.DEFAULT_HEADERS\n",
    "            response = opener.open(GoogleSearch.SEARCH_URL + \"?q=\"+ urllib2.quote(query) + \"&hl=\" + language + (\"\" if start == 0 else (\"&start=\" + str(start))))\n",
    "            soup = BeautifulSoup(response.read(), \"lxml\")\n",
    "            response.close()\n",
    "            if total is None:\n",
    "                totalText = soup.select(GoogleSearch.TOTAL_SELECTOR)[0].children.next().encode('utf-8')\n",
    "                print 'totalText: ', totalText\n",
    "                total = long(re.sub(\"[',\\. ]\", \"\", re.search(\"(([0-9]+[',\\. ])*[0-9]+)\", totalText).group(1)))\n",
    "                print 're-search: ', re.search(\"(([0-9]+[',\\. ])*[0-9]+)\", totalText).group(1)\n",
    "                \n",
    "            results = self.parseResults(soup.select(GoogleSearch.RESULT_SELECTOR))\n",
    "            if len(searchResults) + len(results) > num_results:\n",
    "                del results[num_results - len(searchResults):]\n",
    "            searchResults += results\n",
    "        return SearchResponse(searchResults, total);\n",
    "    def parseResults(self, results):\n",
    "        tStart = time.time()\n",
    "        searchResults = [];\n",
    "        for result in results:\n",
    "            title = result.text\n",
    "            searchResults.append(SearchResult(title))\n",
    "        return searchResults"
   ]
  },
  {
   "cell_type": "code",
   "execution_count": null,
   "metadata": {
    "collapsed": true
   },
   "outputs": [],
   "source": []
  },
  {
   "cell_type": "code",
   "execution_count": 4,
   "metadata": {
    "collapsed": true
   },
   "outputs": [],
   "source": [
    "qstring1 = '是日本戰國時代的大名及江戶幕府第一任征夷大將軍，全名德川次郎 wiki'"
   ]
  },
  {
   "cell_type": "code",
   "execution_count": 22,
   "metadata": {},
   "outputs": [
    {
     "name": "stdout",
     "output_type": "stream",
     "text": [
      "Mozilla/5.0 (PPC) AppleWebKit/502.0 (KHTML, like Gecko) Version/2.0305.362 Safari/502\n",
      "pg:  1\n",
      "start:  0\n",
      "totalText:  About 396 results\n",
      "re-search:  396\n"
     ]
    }
   ],
   "source": [
    "rs = GoogleSearch().search(qstring, num_results = 7)"
   ]
  },
  {
   "cell_type": "code",
   "execution_count": 23,
   "metadata": {},
   "outputs": [
    {
     "name": "stdout",
     "output_type": "stream",
     "text": [
      "拉丁语- 维基百科，自由的百科全书\n",
      "Dreye權威釋義| 拉丁文 - Dr.eye 譯典通\n",
      "lingua Latina 拉丁語 - 華人百科\n",
      "埃涅阿斯紀- Wikiwand\n",
      "古羅馬廣場- Wikiwand\n",
      "勞古多羅方言- Wikiwand\n",
      "狄奧多里克大帝- Wikiwand\n"
     ]
    }
   ],
   "source": [
    "for i in range(len(rs.results)):\n",
    "    print rs.results[i].title"
   ]
  },
  {
   "cell_type": "code",
   "execution_count": 21,
   "metadata": {},
   "outputs": [
    {
     "name": "stdout",
     "output_type": "stream",
     "text": [
      "Mozilla/5.0 (PPC) AppleWebKit/562.0 (KHTML, like Gecko) Version/0.01028.257 Safari/562\n",
      "pg:  1\n",
      "start:  0\n",
      "totalText:  About 396 results\n",
      "re-search:  396\n",
      "拉丁语- 维基百科，自由的百科全书\n"
     ]
    }
   ],
   "source": [
    "qstring = '屬於印歐語系義大利語族。是最早在拉提姆地區（今義大利的拉齊奧 wiki'\n",
    "response = GoogleSearch().search(qstring, num_results = 7)\n",
    "print response.results[0].title"
   ]
  },
  {
   "cell_type": "code",
   "execution_count": 1,
   "metadata": {},
   "outputs": [],
   "source": [
    "class SearchResponse:\n",
    "    def __init__(self, results, total):\n",
    "        self.results = results;\n",
    "        self.total = total;\n",
    "\n",
    "class SearchResult:\n",
    "    def __init__(self, title):\n",
    "        self.title = title\n",
    "        self.__text = None\n",
    "        self.__markup = None"
   ]
  },
  {
   "cell_type": "code",
   "execution_count": null,
   "metadata": {
    "collapsed": true
   },
   "outputs": [],
   "source": []
  }
 ],
 "metadata": {
  "kernelspec": {
   "display_name": "Python 2",
   "language": "python",
   "name": "python2"
  },
  "language_info": {
   "codemirror_mode": {
    "name": "ipython",
    "version": 2
   },
   "file_extension": ".py",
   "mimetype": "text/x-python",
   "name": "python",
   "nbconvert_exporter": "python",
   "pygments_lexer": "ipython2",
   "version": "2.7.12"
  }
 },
 "nbformat": 4,
 "nbformat_minor": 2
}
