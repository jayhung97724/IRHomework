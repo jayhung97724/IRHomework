{
 "cells": [
  {
   "cell_type": "code",
   "execution_count": 1,
   "metadata": {},
   "outputs": [
    {
     "name": "stderr",
     "output_type": "stream",
     "text": [
      "Building prefix dict from the default dictionary ...\n",
      "Loading model from cache /var/folders/z_/wwqj_c2x1qvgj_szyrvc81v40000gn/T/jieba.cache\n",
      "Loading model cost 0.476 seconds.\n",
      "Prefix dict has been built succesfully.\n"
     ]
    }
   ],
   "source": [
    "import json\n",
    "import jieba\n",
    "import jieba.posseg as pseg\n",
    "jieba.load_userdict('dict.txt.big.txt')\n",
    "from collections import OrderedDict\n",
    "import locale\n",
    "import pandas as pd\n",
    "locale.setlocale(locale.LC_ALL, 'en_US.UTF-8')\n",
    "from googlesearch.googlesearch import GoogleSearch\n",
    "from timeit import timeit\n",
    "import time\n",
    "from hanziconv.hanziconv import HanziConv"
   ]
  },
  {
   "cell_type": "code",
   "execution_count": 2,
   "metadata": {
    "collapsed": true
   },
   "outputs": [],
   "source": [
    "with open('questions_example.json', 'rb') as qf:\n",
    "    q_list = json.load(qf)"
   ]
  },
  {
   "cell_type": "code",
   "execution_count": 3,
   "metadata": {
    "collapsed": true
   },
   "outputs": [],
   "source": [
    "def cutQuestion(no):\n",
    "    tempDict = OrderedDict()\n",
    "    q = []\n",
    "    words = pseg.cut(q_list[no]['Question'])\n",
    "    for word in words:\n",
    "        if 'n' in word.flag and not tempDict.has_key(word.word):\n",
    "            tempDict.update({word.word:word.flag})\n",
    "    # print json.dumps(tempDict, encoding='utf-8', ensure_ascii=False)\n",
    "    for key in tempDict.keys():\n",
    "        name = key.encode('utf-8')\n",
    "        # print name\n",
    "        q.append(name)\n",
    "    qstring = ' '.join(q[0:10])\n",
    "    qstring = qstring[0:31]\n",
    "    # qstring += ' wiki'\n",
    "    print qstring\n",
    "    return qstring"
   ]
  },
  {
   "cell_type": "code",
   "execution_count": 28,
   "metadata": {
    "collapsed": true
   },
   "outputs": [],
   "source": [
    "def cutQuestion1(no):\n",
    "    qstring = q_list[no]['Question'][0:30].encode('utf-8')\n",
    "    # qstring += ' wiki'\n",
    "    print qstring\n",
    "    return qstring"
   ]
  },
  {
   "cell_type": "code",
   "execution_count": 29,
   "metadata": {},
   "outputs": [
    {
     "name": "stdout",
     "output_type": "stream",
     "text": [
      "是中華人民共和國西南地區的一個省份，省會成都市。四川簡稱川或\n",
      "是中華人民共和國西南地區的一個省份，省會成都市。四川簡稱川或\n"
     ]
    }
   ],
   "source": [
    "a = cutQuestion1(14)\n",
    "print a"
   ]
  },
  {
   "cell_type": "code",
   "execution_count": 6,
   "metadata": {
    "collapsed": true
   },
   "outputs": [],
   "source": [
    "def Google(qstring):\n",
    "    response = GoogleSearch().search(qstring)\n",
    "    rp = ''\n",
    "    for i in range(6):\n",
    "        rp += response.results[i].title\n",
    "    return rp"
   ]
  },
  {
   "cell_type": "code",
   "execution_count": 30,
   "metadata": {},
   "outputs": [],
   "source": [
    "def findAnswer(no):\n",
    "    ansN = 0\n",
    "    ans = ''\n",
    "    qstring = cutQuestion1(no)\n",
    "    print \"%d Googling... \" % no\n",
    "    result = Google(qstring)\n",
    "    print \"Google over \" \n",
    "    for op in \"ABC\":\n",
    "        score = result.count(q_list[no][op])\n",
    "        if score > ansN:\n",
    "            ans = op\n",
    "            ansN = score\n",
    "    if ansN == 0:\n",
    "        for op in \"ABC\":\n",
    "            score = result.count(HanziConv.toSimplified(q_list[no][op]))\n",
    "            if score > ansN:\n",
    "                ans = op\n",
    "                ansN = score\n",
    "        else:\n",
    "            ans = 'B'\n",
    "    # print ans, ansN\n",
    "    return ans"
   ]
  },
  {
   "cell_type": "code",
   "execution_count": 31,
   "metadata": {},
   "outputs": [
    {
     "name": "stdout",
     "output_type": "stream",
     "text": [
      "西非國家，位於非洲的幾內亞灣西岸頂點，鄰國包括西邊的貝南，北\n",
      "3 Googling... \n",
      "Google over \n"
     ]
    },
    {
     "data": {
      "text/plain": [
       "'B'"
      ]
     },
     "execution_count": 31,
     "metadata": {},
     "output_type": "execute_result"
    }
   ],
   "source": [
    "findAnswer(3)"
   ]
  },
  {
   "cell_type": "code",
   "execution_count": 32,
   "metadata": {
    "collapsed": true
   },
   "outputs": [],
   "source": [
    "def ultimate():\n",
    "    ans_list = []\n",
    "    for no in range(len(q_list)):\n",
    "        ans = findAnswer(no)\n",
    "        print no, ans\n",
    "        ans_list.append(ans)\n",
    "        time.sleep(0.3)\n",
    "    print ans_list\n",
    "    return ans_list"
   ]
  },
  {
   "cell_type": "code",
   "execution_count": 33,
   "metadata": {},
   "outputs": [
    {
     "name": "stdout",
     "output_type": "stream",
     "text": [
      "是一個由主權國家組成的國際組織，致力於促進各國在國際法、國際\n",
      "0 Googling... \n",
      "Google over \n",
      "0 B\n",
      "位於太平洋西南部的一個島嶼國家，首都為威靈頓，但最大的城市為\n",
      "1 Googling... \n",
      "Google over \n",
      "1 A\n",
      "哪個國家最大的三個城市分別為阿姆斯特丹、鹿特丹與海牙。阿姆斯\n",
      "2 Googling... \n",
      "Google over \n",
      "2 C\n",
      "西非國家，位於非洲的幾內亞灣西岸頂點，鄰國包括西邊的貝南，北\n",
      "3 Googling... \n",
      "Google over \n",
      "3 B\n",
      "著名臺灣導演，知名作品包括推手，飲食男女，斷背山，囍宴，理性\n",
      "4 Googling... \n",
      "Google over \n",
      "4 A\n",
      "是美國加利福尼亞州北部的一座都市，以其涼爽的夏季、多霧、綿延\n",
      "5 Googling... \n",
      "Google over \n",
      "5 C\n",
      "是日本戰國時代的大名及江戶幕府第一任征夷大將軍，全名德川次郎\n",
      "6 Googling... \n",
      "Google over \n",
      "6 A\n",
      "屬於印歐語系義大利語族。是最早在拉提姆地區（今義大利的拉齊奧\n",
      "7 Googling... \n"
     ]
    },
    {
     "name": "stderr",
     "output_type": "stream",
     "text": [
      "Exception in thread Thread-545:\n",
      "Traceback (most recent call last):\n",
      "  File \"/usr/local/Cellar/python/2.7.12_2/Frameworks/Python.framework/Versions/2.7/lib/python2.7/threading.py\", line 801, in __bootstrap_inner\n",
      "    self.run()\n",
      "  File \"/usr/local/Cellar/python/2.7.12_2/Frameworks/Python.framework/Versions/2.7/lib/python2.7/threading.py\", line 754, in run\n",
      "    self.__target(*self.__args, **self.__kwargs)\n",
      "  File \"googlesearch/googlesearch.py\", line 84, in getText\n",
      "    soup = BeautifulSoup(self.getMarkup(), \"lxml\")\n",
      "  File \"googlesearch/googlesearch.py\", line 94, in getMarkup\n",
      "    response = opener.open(self.url);\n",
      "  File \"/usr/local/Cellar/python/2.7.12_2/Frameworks/Python.framework/Versions/2.7/lib/python2.7/urllib2.py\", line 429, in open\n",
      "    response = self._open(req, data)\n",
      "  File \"/usr/local/Cellar/python/2.7.12_2/Frameworks/Python.framework/Versions/2.7/lib/python2.7/urllib2.py\", line 447, in _open\n",
      "    '_open', req)\n",
      "  File \"/usr/local/Cellar/python/2.7.12_2/Frameworks/Python.framework/Versions/2.7/lib/python2.7/urllib2.py\", line 407, in _call_chain\n",
      "    result = func(*args)\n",
      "  File \"/usr/local/Cellar/python/2.7.12_2/Frameworks/Python.framework/Versions/2.7/lib/python2.7/urllib2.py\", line 1241, in https_open\n",
      "    context=self._context)\n",
      "  File \"/usr/local/Cellar/python/2.7.12_2/Frameworks/Python.framework/Versions/2.7/lib/python2.7/urllib2.py\", line 1198, in do_open\n",
      "    raise URLError(err)\n",
      "URLError: <urlopen error [Errno 8] nodename nor servname provided, or not known>\n",
      "\n",
      "Exception in thread Thread-549:\n",
      "Traceback (most recent call last):\n",
      "  File \"/usr/local/Cellar/python/2.7.12_2/Frameworks/Python.framework/Versions/2.7/lib/python2.7/threading.py\", line 801, in __bootstrap_inner\n",
      "    self.run()\n",
      "  File \"/usr/local/Cellar/python/2.7.12_2/Frameworks/Python.framework/Versions/2.7/lib/python2.7/threading.py\", line 754, in run\n",
      "    self.__target(*self.__args, **self.__kwargs)\n",
      "  File \"googlesearch/googlesearch.py\", line 84, in getText\n",
      "    soup = BeautifulSoup(self.getMarkup(), \"lxml\")\n",
      "  File \"googlesearch/googlesearch.py\", line 94, in getMarkup\n",
      "    response = opener.open(self.url);\n",
      "  File \"/usr/local/Cellar/python/2.7.12_2/Frameworks/Python.framework/Versions/2.7/lib/python2.7/urllib2.py\", line 435, in open\n",
      "    response = meth(req, response)\n",
      "  File \"/usr/local/Cellar/python/2.7.12_2/Frameworks/Python.framework/Versions/2.7/lib/python2.7/urllib2.py\", line 548, in http_response\n",
      "    'http', request, response, code, msg, hdrs)\n",
      "  File \"/usr/local/Cellar/python/2.7.12_2/Frameworks/Python.framework/Versions/2.7/lib/python2.7/urllib2.py\", line 473, in error\n",
      "    return self._call_chain(*args)\n",
      "  File \"/usr/local/Cellar/python/2.7.12_2/Frameworks/Python.framework/Versions/2.7/lib/python2.7/urllib2.py\", line 407, in _call_chain\n",
      "    result = func(*args)\n",
      "  File \"/usr/local/Cellar/python/2.7.12_2/Frameworks/Python.framework/Versions/2.7/lib/python2.7/urllib2.py\", line 556, in http_error_default\n",
      "    raise HTTPError(req.get_full_url(), code, msg, hdrs, fp)\n",
      "HTTPError: HTTP Error 404: Not Found\n",
      "\n"
     ]
    },
    {
     "name": "stdout",
     "output_type": "stream",
     "text": [
      "Google over \n",
      "7 A\n",
      "是一個位於美國夏威夷州歐胡島上的海港，位於該州首府檀香山西方\n",
      "8 Googling... \n",
      "Google over \n",
      "8 B\n",
      "是一家總部位於芬蘭埃斯波主要從事生產行動通訊設備和服務的跨國\n",
      "9 Googling... \n"
     ]
    },
    {
     "name": "stderr",
     "output_type": "stream",
     "text": [
      "Exception in thread Thread-572:\n",
      "Traceback (most recent call last):\n",
      "  File \"/usr/local/Cellar/python/2.7.12_2/Frameworks/Python.framework/Versions/2.7/lib/python2.7/threading.py\", line 801, in __bootstrap_inner\n",
      "    self.run()\n",
      "  File \"/usr/local/Cellar/python/2.7.12_2/Frameworks/Python.framework/Versions/2.7/lib/python2.7/threading.py\", line 754, in run\n",
      "    self.__target(*self.__args, **self.__kwargs)\n",
      "  File \"googlesearch/googlesearch.py\", line 84, in getText\n",
      "    soup = BeautifulSoup(self.getMarkup(), \"lxml\")\n",
      "  File \"googlesearch/googlesearch.py\", line 94, in getMarkup\n",
      "    response = opener.open(self.url);\n",
      "  File \"/usr/local/Cellar/python/2.7.12_2/Frameworks/Python.framework/Versions/2.7/lib/python2.7/urllib2.py\", line 429, in open\n",
      "    response = self._open(req, data)\n",
      "  File \"/usr/local/Cellar/python/2.7.12_2/Frameworks/Python.framework/Versions/2.7/lib/python2.7/urllib2.py\", line 447, in _open\n",
      "    '_open', req)\n",
      "  File \"/usr/local/Cellar/python/2.7.12_2/Frameworks/Python.framework/Versions/2.7/lib/python2.7/urllib2.py\", line 407, in _call_chain\n",
      "    result = func(*args)\n",
      "  File \"/usr/local/Cellar/python/2.7.12_2/Frameworks/Python.framework/Versions/2.7/lib/python2.7/urllib2.py\", line 1241, in https_open\n",
      "    context=self._context)\n",
      "  File \"/usr/local/Cellar/python/2.7.12_2/Frameworks/Python.framework/Versions/2.7/lib/python2.7/urllib2.py\", line 1198, in do_open\n",
      "    raise URLError(err)\n",
      "URLError: <urlopen error [SSL: CERTIFICATE_VERIFY_FAILED] certificate verify failed (_ssl.c:590)>\n",
      "\n"
     ]
    },
    {
     "name": "stdout",
     "output_type": "stream",
     "text": [
      "Google over \n",
      "9 B\n",
      "是世界上最大的半導體公司，也是第一家推出x86架構處理器的公\n",
      "10 Googling... \n"
     ]
    },
    {
     "name": "stderr",
     "output_type": "stream",
     "text": [
      "Exception in thread Thread-575:\n",
      "Traceback (most recent call last):\n",
      "  File \"/usr/local/Cellar/python/2.7.12_2/Frameworks/Python.framework/Versions/2.7/lib/python2.7/threading.py\", line 801, in __bootstrap_inner\n",
      "    self.run()\n",
      "  File \"/usr/local/Cellar/python/2.7.12_2/Frameworks/Python.framework/Versions/2.7/lib/python2.7/threading.py\", line 754, in run\n",
      "    self.__target(*self.__args, **self.__kwargs)\n",
      "  File \"googlesearch/googlesearch.py\", line 84, in getText\n",
      "    soup = BeautifulSoup(self.getMarkup(), \"lxml\")\n",
      "  File \"googlesearch/googlesearch.py\", line 94, in getMarkup\n",
      "    response = opener.open(self.url);\n",
      "  File \"/usr/local/Cellar/python/2.7.12_2/Frameworks/Python.framework/Versions/2.7/lib/python2.7/urllib2.py\", line 429, in open\n",
      "    response = self._open(req, data)\n",
      "  File \"/usr/local/Cellar/python/2.7.12_2/Frameworks/Python.framework/Versions/2.7/lib/python2.7/urllib2.py\", line 447, in _open\n",
      "    '_open', req)\n",
      "  File \"/usr/local/Cellar/python/2.7.12_2/Frameworks/Python.framework/Versions/2.7/lib/python2.7/urllib2.py\", line 407, in _call_chain\n",
      "    result = func(*args)\n",
      "  File \"/usr/local/Cellar/python/2.7.12_2/Frameworks/Python.framework/Versions/2.7/lib/python2.7/urllib2.py\", line 1241, in https_open\n",
      "    context=self._context)\n",
      "  File \"/usr/local/Cellar/python/2.7.12_2/Frameworks/Python.framework/Versions/2.7/lib/python2.7/urllib2.py\", line 1198, in do_open\n",
      "    raise URLError(err)\n",
      "URLError: <urlopen error [Errno 8] nodename nor servname provided, or not known>\n",
      "\n"
     ]
    },
    {
     "name": "stdout",
     "output_type": "stream",
     "text": [
      "Google over \n",
      "10 B\n",
      "簡稱臺大，前身為日治時期1928年創立的臺北帝國大學，由首任\n",
      "11 Googling... \n",
      "Google over \n",
      "11 C\n",
      "是位於以色列中部的都市，位於地中海和死海之間。同時是猶太教、\n",
      "12 Googling... \n",
      "Google over \n",
      "12 C\n",
      "濱臨東地中海，以此為中心的但城鎮群有巴特亞姆、霍隆、拉馬特甘\n",
      "13 Googling... \n",
      "Google over \n",
      "13 A\n",
      "是中華人民共和國西南地區的一個省份，省會成都市。四川簡稱川或\n",
      "14 Googling... \n",
      "Google over \n",
      "14 A\n",
      "官方稱以色列國，是在位於西亞的主權國家，坐落於地中海東南岸及\n",
      "15 Googling... \n"
     ]
    },
    {
     "name": "stderr",
     "output_type": "stream",
     "text": [
      "Exception in thread Thread-628:\n",
      "Traceback (most recent call last):\n",
      "  File \"/usr/local/Cellar/python/2.7.12_2/Frameworks/Python.framework/Versions/2.7/lib/python2.7/threading.py\", line 801, in __bootstrap_inner\n",
      "    self.run()\n",
      "  File \"/usr/local/Cellar/python/2.7.12_2/Frameworks/Python.framework/Versions/2.7/lib/python2.7/threading.py\", line 754, in run\n",
      "    self.__target(*self.__args, **self.__kwargs)\n",
      "  File \"googlesearch/googlesearch.py\", line 84, in getText\n",
      "    soup = BeautifulSoup(self.getMarkup(), \"lxml\")\n",
      "  File \"googlesearch/googlesearch.py\", line 94, in getMarkup\n",
      "    response = opener.open(self.url);\n",
      "  File \"/usr/local/Cellar/python/2.7.12_2/Frameworks/Python.framework/Versions/2.7/lib/python2.7/urllib2.py\", line 429, in open\n",
      "    response = self._open(req, data)\n",
      "  File \"/usr/local/Cellar/python/2.7.12_2/Frameworks/Python.framework/Versions/2.7/lib/python2.7/urllib2.py\", line 447, in _open\n",
      "    '_open', req)\n",
      "  File \"/usr/local/Cellar/python/2.7.12_2/Frameworks/Python.framework/Versions/2.7/lib/python2.7/urllib2.py\", line 407, in _call_chain\n",
      "    result = func(*args)\n",
      "  File \"/usr/local/Cellar/python/2.7.12_2/Frameworks/Python.framework/Versions/2.7/lib/python2.7/urllib2.py\", line 1241, in https_open\n",
      "    context=self._context)\n",
      "  File \"/usr/local/Cellar/python/2.7.12_2/Frameworks/Python.framework/Versions/2.7/lib/python2.7/urllib2.py\", line 1198, in do_open\n",
      "    raise URLError(err)\n",
      "URLError: <urlopen error [Errno 61] Connection refused>\n",
      "\n"
     ]
    },
    {
     "name": "stdout",
     "output_type": "stream",
     "text": [
      "Google over \n",
      "15 B\n",
      "簡稱雲或滇，是中華人民共和國西南部邊疆地區的一個省份，省會昆\n",
      "16 Googling... \n",
      "Google over \n",
      "16 B\n",
      "又稱廣東話、廣州話，兩廣當地人慣稱「白話」，海外華人則稱為「\n",
      "17 Googling... \n",
      "Google over \n",
      "17 B\n",
      "或稱「高地綜合症、高山反應、高原反應」，是人體在高海拔狀態由\n",
      "18 Googling... \n",
      "Google over \n",
      "18 B\n",
      "是一座位於歐洲中心的山脈，它覆蓋了義大利北部邊界、法國東南部\n",
      "19 Googling... \n"
     ]
    },
    {
     "name": "stderr",
     "output_type": "stream",
     "text": [
      "Exception in thread Thread-671:\n",
      "Traceback (most recent call last):\n",
      "  File \"/usr/local/Cellar/python/2.7.12_2/Frameworks/Python.framework/Versions/2.7/lib/python2.7/threading.py\", line 801, in __bootstrap_inner\n",
      "    self.run()\n",
      "  File \"/usr/local/Cellar/python/2.7.12_2/Frameworks/Python.framework/Versions/2.7/lib/python2.7/threading.py\", line 754, in run\n",
      "    self.__target(*self.__args, **self.__kwargs)\n",
      "  File \"googlesearch/googlesearch.py\", line 84, in getText\n",
      "    soup = BeautifulSoup(self.getMarkup(), \"lxml\")\n",
      "  File \"googlesearch/googlesearch.py\", line 94, in getMarkup\n",
      "    response = opener.open(self.url);\n",
      "  File \"/usr/local/Cellar/python/2.7.12_2/Frameworks/Python.framework/Versions/2.7/lib/python2.7/urllib2.py\", line 429, in open\n",
      "    response = self._open(req, data)\n",
      "  File \"/usr/local/Cellar/python/2.7.12_2/Frameworks/Python.framework/Versions/2.7/lib/python2.7/urllib2.py\", line 447, in _open\n",
      "    '_open', req)\n",
      "  File \"/usr/local/Cellar/python/2.7.12_2/Frameworks/Python.framework/Versions/2.7/lib/python2.7/urllib2.py\", line 407, in _call_chain\n",
      "    result = func(*args)\n",
      "  File \"/usr/local/Cellar/python/2.7.12_2/Frameworks/Python.framework/Versions/2.7/lib/python2.7/urllib2.py\", line 1241, in https_open\n",
      "    context=self._context)\n",
      "  File \"/usr/local/Cellar/python/2.7.12_2/Frameworks/Python.framework/Versions/2.7/lib/python2.7/urllib2.py\", line 1198, in do_open\n",
      "    raise URLError(err)\n",
      "URLError: <urlopen error [SSL: CERTIFICATE_VERIFY_FAILED] certificate verify failed (_ssl.c:590)>\n",
      "\n"
     ]
    },
    {
     "name": "stdout",
     "output_type": "stream",
     "text": [
      "Google over \n",
      "19 B\n",
      "['B', 'A', 'C', 'B', 'A', 'C', 'A', 'A', 'B', 'B', 'B', 'C', 'C', 'A', 'A', 'B', 'B', 'B', 'B', 'B']\n",
      "It cost 104.442089 sec\n"
     ]
    }
   ],
   "source": [
    "if __name__== \"__main__\":\n",
    "    tStart = time.time()\n",
    "    ultimate()\n",
    "    tEnd = time.time()\n",
    "    period = tEnd - tStart\n",
    "    print \"It cost %f sec\" % period"
   ]
  },
  {
   "cell_type": "code",
   "execution_count": null,
   "metadata": {
    "scrolled": false
   },
   "outputs": [],
   "source": [
    "# t = timeit('ultimate()', 'from __main__ import ultimate', number=1)\n",
    "# print t"
   ]
  },
  {
   "cell_type": "code",
   "execution_count": null,
   "metadata": {},
   "outputs": [],
   "source": [
    "findAnswer(0)"
   ]
  },
  {
   "cell_type": "code",
   "execution_count": null,
   "metadata": {},
   "outputs": [],
   "source": [
    "findAnswer(1)"
   ]
  },
  {
   "cell_type": "code",
   "execution_count": null,
   "metadata": {},
   "outputs": [],
   "source": [
    "findAnswer(2)"
   ]
  },
  {
   "cell_type": "code",
   "execution_count": null,
   "metadata": {},
   "outputs": [],
   "source": [
    "findAnswer(3)"
   ]
  },
  {
   "cell_type": "code",
   "execution_count": null,
   "metadata": {},
   "outputs": [],
   "source": [
    "findAnswer(4)"
   ]
  },
  {
   "cell_type": "code",
   "execution_count": null,
   "metadata": {},
   "outputs": [],
   "source": [
    "findAnswer(5)"
   ]
  },
  {
   "cell_type": "code",
   "execution_count": null,
   "metadata": {},
   "outputs": [],
   "source": [
    "findAnswer(6)"
   ]
  },
  {
   "cell_type": "code",
   "execution_count": null,
   "metadata": {},
   "outputs": [],
   "source": [
    "findAnswer(7)"
   ]
  },
  {
   "cell_type": "code",
   "execution_count": null,
   "metadata": {},
   "outputs": [],
   "source": [
    "findAnswer(8)"
   ]
  },
  {
   "cell_type": "code",
   "execution_count": null,
   "metadata": {},
   "outputs": [],
   "source": [
    "findAnswer(9)"
   ]
  },
  {
   "cell_type": "code",
   "execution_count": null,
   "metadata": {},
   "outputs": [],
   "source": [
    "findAnswer(10)"
   ]
  },
  {
   "cell_type": "code",
   "execution_count": null,
   "metadata": {},
   "outputs": [],
   "source": [
    "findAnswer(11)"
   ]
  },
  {
   "cell_type": "code",
   "execution_count": null,
   "metadata": {},
   "outputs": [],
   "source": [
    "findAnswer(12)"
   ]
  },
  {
   "cell_type": "code",
   "execution_count": null,
   "metadata": {},
   "outputs": [],
   "source": [
    "findAnswer(13)"
   ]
  },
  {
   "cell_type": "code",
   "execution_count": null,
   "metadata": {},
   "outputs": [],
   "source": [
    "findAnswer(14)"
   ]
  },
  {
   "cell_type": "code",
   "execution_count": null,
   "metadata": {},
   "outputs": [],
   "source": [
    "findAnswer(15)"
   ]
  },
  {
   "cell_type": "code",
   "execution_count": null,
   "metadata": {},
   "outputs": [],
   "source": [
    "findAnswer(16)"
   ]
  },
  {
   "cell_type": "code",
   "execution_count": null,
   "metadata": {},
   "outputs": [],
   "source": [
    "findAnswer(17)"
   ]
  },
  {
   "cell_type": "code",
   "execution_count": null,
   "metadata": {},
   "outputs": [],
   "source": [
    "findAnswer(18)"
   ]
  },
  {
   "cell_type": "code",
   "execution_count": null,
   "metadata": {},
   "outputs": [],
   "source": [
    "findAnswer(19)"
   ]
  },
  {
   "cell_type": "code",
   "execution_count": null,
   "metadata": {
    "collapsed": true
   },
   "outputs": [],
   "source": []
  }
 ],
 "metadata": {
  "kernelspec": {
   "display_name": "Python 2",
   "language": "python",
   "name": "python2"
  },
  "language_info": {
   "codemirror_mode": {
    "name": "ipython",
    "version": 2
   },
   "file_extension": ".py",
   "mimetype": "text/x-python",
   "name": "python",
   "nbconvert_exporter": "python",
   "pygments_lexer": "ipython2",
   "version": "2.7.12"
  }
 },
 "nbformat": 4,
 "nbformat_minor": 2
}
