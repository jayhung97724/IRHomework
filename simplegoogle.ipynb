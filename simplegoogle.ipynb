{
 "cells": [
  {
   "cell_type": "code",
   "execution_count": 1,
   "metadata": {},
   "outputs": [
    {
     "name": "stderr",
     "output_type": "stream",
     "text": [
      "Building prefix dict from the default dictionary ...\n",
      "Loading model from cache /var/folders/z_/wwqj_c2x1qvgj_szyrvc81v40000gn/T/jieba.cache\n",
      "Loading model cost 0.464 seconds.\n",
      "Prefix dict has been built succesfully.\n"
     ]
    },
    {
     "name": "stdout",
     "output_type": "stream",
     "text": [
      "Mozillia/5.0 (WinNT3.51; rv:1.0) Gecko/20150726 Firefox/1.0\n"
     ]
    }
   ],
   "source": [
    "import json\n",
    "import jieba\n",
    "import jieba.posseg as pseg\n",
    "jieba.load_userdict('dict.txt.big.txt')\n",
    "from collections import OrderedDict\n",
    "import locale\n",
    "import pandas as pd\n",
    "locale.setlocale(locale.LC_ALL, 'en_US.UTF-8')\n",
    "from googlesearch.newgooglesearch import GoogleSearch\n",
    "from timeit import timeit\n",
    "import time\n",
    "from hanziconv.hanziconv import HanziConv"
   ]
  },
  {
   "cell_type": "code",
   "execution_count": 2,
   "metadata": {
    "collapsed": true
   },
   "outputs": [],
   "source": [
    "with open('questions_example.json', 'rb') as qf:\n",
    "    q_list = json.load(qf)"
   ]
  },
  {
   "cell_type": "code",
   "execution_count": 3,
   "metadata": {
    "collapsed": true
   },
   "outputs": [],
   "source": [
    "def cutQuestion(no):\n",
    "    tempDict = OrderedDict()\n",
    "    q = []\n",
    "    words = pseg.cut(q_list[no]['Question'])\n",
    "    for word in words:\n",
    "        if 'n' in word.flag and not tempDict.has_key(word.word):\n",
    "            tempDict.update({word.word:word.flag})\n",
    "    # print json.dumps(tempDict, encoding='utf-8', ensure_ascii=False)\n",
    "    for key in tempDict.keys():\n",
    "        name = key.encode('utf-8')\n",
    "        q.append(name)\n",
    "    qstring = ' '.join(q[0:10])\n",
    "    qstring = qstring[0:31]\n",
    "    # qstring += ' wiki'\n",
    "    print qstring\n",
    "    return qstring"
   ]
  },
  {
   "cell_type": "code",
   "execution_count": 4,
   "metadata": {
    "collapsed": true
   },
   "outputs": [],
   "source": [
    "def cutQuestion1(no):\n",
    "    qstring = ''\n",
    "    qstring += q_list[no]['Question'][0:30].encode('utf-8')\n",
    "    qstring += ' wiki'\n",
    "    print qstring\n",
    "    return qstring"
   ]
  },
  {
   "cell_type": "code",
   "execution_count": 5,
   "metadata": {},
   "outputs": [],
   "source": [
    "def Google(qstring):\n",
    "    response = GoogleSearch().search(qstring, num_results = 7)\n",
    "    rp = ''\n",
    "    for i in range(5):\n",
    "        rp += response.results[i].title\n",
    "    return rp"
   ]
  },
  {
   "cell_type": "code",
   "execution_count": 6,
   "metadata": {
    "collapsed": true
   },
   "outputs": [],
   "source": [
    "def findAnswer(no):\n",
    "    ansN = 0\n",
    "    ans = ''\n",
    "    qstring = cutQuestion1(no)\n",
    "    tStart = time.time()\n",
    "    result = Google(qstring)\n",
    "    tEnd = time.time()\n",
    "    period = tEnd - tStart\n",
    "    print \"Google over It cost %f sec\" % period\n",
    "    for op in \"ABC\":\n",
    "        score = result.count(q_list[no][op])\n",
    "        if score > ansN:\n",
    "            ans = op\n",
    "            ansN = score\n",
    "    if ansN == 0:\n",
    "        for op in \"ABC\":\n",
    "            score = result.count(HanziConv.toSimplified(q_list[no][op]))\n",
    "            if score > ansN:\n",
    "                ans = op\n",
    "                ansN = score\n",
    "        else:\n",
    "            ans = 'B'\n",
    "    print ans, q_list[no][ans]\n",
    "    return ans"
   ]
  },
  {
   "cell_type": "code",
   "execution_count": 7,
   "metadata": {
    "collapsed": true
   },
   "outputs": [],
   "source": [
    "def ultimate():\n",
    "    ans_list = []\n",
    "    for no in range(len(q_list)):\n",
    "        print '%d ============' % no\n",
    "        ans = findAnswer(no)\n",
    "        ans_list.append(ans)\n",
    "        print ans_list\n",
    "    return ans_list"
   ]
  },
  {
   "cell_type": "code",
   "execution_count": 8,
   "metadata": {},
   "outputs": [
    {
     "name": "stdout",
     "output_type": "stream",
     "text": [
      "0 ============\n",
      "是一個由主權國家組成的國際組織，致力於促進各國在國際法、國際 wiki\n",
      "Google over It cost 0.552529 sec\n",
      "B 聯合國\n",
      "['B']\n",
      "1 ============\n",
      "位於太平洋西南部的一個島嶼國家，首都為威靈頓，但最大的城市為 wiki\n",
      "Google over It cost 0.501885 sec\n",
      "A 紐西蘭\n",
      "['B', 'A']\n",
      "2 ============\n",
      "哪個國家最大的三個城市分別為阿姆斯特丹、鹿特丹與海牙。阿姆斯 wiki\n",
      "Google over It cost 1.206269 sec\n",
      "C 荷蘭\n",
      "['B', 'A', 'C']\n",
      "3 ============\n",
      "西非國家，位於非洲的幾內亞灣西岸頂點，鄰國包括西邊的貝南，北 wiki\n",
      "Google over It cost 0.565285 sec\n",
      "B 奈及利亞\n",
      "['B', 'A', 'C', 'B']\n",
      "4 ============\n",
      "著名臺灣導演，知名作品包括推手，飲食男女，斷背山，囍宴，理性 wiki\n",
      "Google over It cost 0.725668 sec\n",
      "A 李安\n",
      "['B', 'A', 'C', 'B', 'A']\n",
      "5 ============\n",
      "是美國加利福尼亞州北部的一座都市，以其涼爽的夏季、多霧、綿延 wiki\n",
      "Google over It cost 0.536224 sec\n",
      "C 舊金山\n",
      "['B', 'A', 'C', 'B', 'A', 'C']\n",
      "6 ============\n",
      "是日本戰國時代的大名及江戶幕府第一任征夷大將軍，全名德川次郎 wiki\n",
      "Google over It cost 0.603119 sec\n",
      "A 德川家康\n",
      "['B', 'A', 'C', 'B', 'A', 'C', 'A']\n",
      "7 ============\n",
      "屬於印歐語系義大利語族。是最早在拉提姆地區（今義大利的拉齊奧 wiki\n",
      "Google over It cost 0.503629 sec\n",
      "A 拉丁語\n",
      "['B', 'A', 'C', 'B', 'A', 'C', 'A', 'A']\n",
      "8 ============\n",
      "是一個位於美國夏威夷州歐胡島上的海港，位於該州首府檀香山西方 wiki\n",
      "Google over It cost 0.548864 sec\n",
      "B 珍珠港\n",
      "['B', 'A', 'C', 'B', 'A', 'C', 'A', 'A', 'B']\n",
      "9 ============\n",
      "是一家總部位於芬蘭埃斯波主要從事生產行動通訊設備和服務的跨國 wiki\n",
      "Google over It cost 1.260047 sec\n",
      "B 諾基亞\n",
      "['B', 'A', 'C', 'B', 'A', 'C', 'A', 'A', 'B', 'B']\n",
      "10 ============\n",
      "是世界上最大的半導體公司，也是第一家推出x86架構處理器的公 wiki\n",
      "Google over It cost 0.554358 sec\n",
      "B 英特爾\n",
      "['B', 'A', 'C', 'B', 'A', 'C', 'A', 'A', 'B', 'B', 'B']\n",
      "11 ============\n",
      "簡稱臺大，前身為日治時期1928年創立的臺北帝國大學，由首任 wiki\n",
      "Google over It cost 1.364504 sec\n",
      "C 國立臺灣大學\n",
      "['B', 'A', 'C', 'B', 'A', 'C', 'A', 'A', 'B', 'B', 'B', 'C']\n",
      "12 ============\n",
      "是位於以色列中部的都市，位於地中海和死海之間。同時是猶太教、 wiki\n",
      "Google over It cost 0.470876 sec\n",
      "C 耶路撒冷\n",
      "['B', 'A', 'C', 'B', 'A', 'C', 'A', 'A', 'B', 'B', 'B', 'C', 'C']\n",
      "13 ============\n",
      "濱臨東地中海，以此為中心的但城鎮群有巴特亞姆、霍隆、拉馬特甘 wiki\n",
      "Google over It cost 1.094687 sec\n",
      "A 特拉維夫\n",
      "['B', 'A', 'C', 'B', 'A', 'C', 'A', 'A', 'B', 'B', 'B', 'C', 'C', 'A']\n",
      "14 ============\n",
      "是中華人民共和國西南地區的一個省份，省會成都市。四川簡稱川或 wiki\n",
      "Google over It cost 0.539532 sec\n",
      "A 四川省\n",
      "['B', 'A', 'C', 'B', 'A', 'C', 'A', 'A', 'B', 'B', 'B', 'C', 'C', 'A', 'A']\n",
      "15 ============\n",
      "官方稱以色列國，是在位於西亞的主權國家，坐落於地中海東南岸及 wiki\n",
      "Google over It cost 1.044130 sec\n",
      "B 以色列\n",
      "['B', 'A', 'C', 'B', 'A', 'C', 'A', 'A', 'B', 'B', 'B', 'C', 'C', 'A', 'A', 'B']\n",
      "16 ============\n",
      "簡稱雲或滇，是中華人民共和國西南部邊疆地區的一個省份，省會昆 wiki\n",
      "Google over It cost 1.260084 sec\n",
      "B 雲南省\n",
      "['B', 'A', 'C', 'B', 'A', 'C', 'A', 'A', 'B', 'B', 'B', 'C', 'C', 'A', 'A', 'B', 'B']\n",
      "17 ============\n",
      "又稱廣東話、廣州話，兩廣當地人慣稱「白話」，海外華人則稱為「 wiki\n",
      "Google over It cost 0.522475 sec\n",
      "B 粵語\n",
      "['B', 'A', 'C', 'B', 'A', 'C', 'A', 'A', 'B', 'B', 'B', 'C', 'C', 'A', 'A', 'B', 'B', 'B']\n",
      "18 ============\n",
      "或稱「高地綜合症、高山反應、高原反應」，是人體在高海拔狀態由 wiki\n",
      "Google over It cost 0.506555 sec\n",
      "B 高山症\n",
      "['B', 'A', 'C', 'B', 'A', 'C', 'A', 'A', 'B', 'B', 'B', 'C', 'C', 'A', 'A', 'B', 'B', 'B', 'B']\n",
      "19 ============\n",
      "是一座位於歐洲中心的山脈，它覆蓋了義大利北部邊界、法國東南部 wiki\n",
      "Google over It cost 1.530298 sec\n",
      "B 阿爾卑斯山\n",
      "['B', 'A', 'C', 'B', 'A', 'C', 'A', 'A', 'B', 'B', 'B', 'C', 'C', 'A', 'A', 'B', 'B', 'B', 'B', 'B']\n",
      "It cost 15.906137 sec\n"
     ]
    }
   ],
   "source": [
    "if __name__== \"__main__\":\n",
    "    tStart = time.time()\n",
    "    ultimate()\n",
    "    tEnd = time.time()\n",
    "    period = tEnd - tStart\n",
    "    print \"It cost %f sec\" % period"
   ]
  }
 ],
 "metadata": {
  "kernelspec": {
   "display_name": "Python 2",
   "language": "python",
   "name": "python2"
  },
  "language_info": {
   "codemirror_mode": {
    "name": "ipython",
    "version": 2
   },
   "file_extension": ".py",
   "mimetype": "text/x-python",
   "name": "python",
   "nbconvert_exporter": "python",
   "pygments_lexer": "ipython2",
   "version": "2.7.12"
  }
 },
 "nbformat": 4,
 "nbformat_minor": 2
}
