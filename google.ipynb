{
 "cells": [
  {
   "cell_type": "code",
   "execution_count": 1,
   "metadata": {},
   "outputs": [
    {
     "name": "stderr",
     "output_type": "stream",
     "text": [
      "Building prefix dict from the default dictionary ...\n",
      "Loading model from cache /var/folders/z_/wwqj_c2x1qvgj_szyrvc81v40000gn/T/jieba.cache\n",
      "Loading model cost 0.461 seconds.\n",
      "Prefix dict has been built succesfully.\n"
     ]
    }
   ],
   "source": [
    "import json\n",
    "import jieba\n",
    "import jieba.posseg as pseg\n",
    "jieba.load_userdict('dict.txt.big.txt')\n",
    "from collections import OrderedDict\n",
    "import locale\n",
    "import pandas as pd\n",
    "locale.setlocale(locale.LC_ALL, 'en_US.UTF-8')\n",
    "from googlesearch.googlesearch import GoogleSearch\n",
    "from timeit import timeit"
   ]
  },
  {
   "cell_type": "code",
   "execution_count": 2,
   "metadata": {
    "collapsed": true
   },
   "outputs": [],
   "source": [
    "with open('questions_example.json', 'rb') as qf:\n",
    "    q_list = json.load(qf)"
   ]
  },
  {
   "cell_type": "code",
   "execution_count": 16,
   "metadata": {},
   "outputs": [],
   "source": [
    "def cutQuestion(no):\n",
    "    tempDict = OrderedDict()\n",
    "    q = []\n",
    "    words = pseg.cut(q_list[no]['Question'])\n",
    "    for word in words:\n",
    "        if 'n' in word.flag and not tempDict.has_key(word.word):\n",
    "            tempDict.update({word.word:word.flag})\n",
    "    # print json.dumps(tempDict, encoding='utf-8', ensure_ascii=False)\n",
    "    for key in tempDict.keys():\n",
    "        name = key.encode('utf-8')\n",
    "        # print name\n",
    "        q.append(name)\n",
    "    qstring = ' '.join(q[0:10])\n",
    "    # qstring = qstring[0:31]\n",
    "    qstring += ' wiki'\n",
    "    print qstring\n",
    "    return qstring"
   ]
  },
  {
   "cell_type": "code",
   "execution_count": 4,
   "metadata": {},
   "outputs": [
    {
     "name": "stdout",
     "output_type": "stream",
     "text": [
      "主權 國家 國際 致力 於 國際法 安全 經濟 發展 社會 人權 公民自由 政治 民主 世界 和平 方面 合作 大戰 後 國際聯盟 戰爭 話\n"
     ]
    }
   ],
   "source": [
    "a = cutQuestion(0)"
   ]
  },
  {
   "cell_type": "code",
   "execution_count": 15,
   "metadata": {},
   "outputs": [],
   "source": [
    "def Google(qstring):\n",
    "    response = GoogleSearch().search(qstring)\n",
    "\n",
    "    rp = ''\n",
    "    for i in range(10):\n",
    "        rp += response.results[i].title\n",
    "        # print(\"Title: \" + result.title)\n",
    "    # print rp\n",
    "    return rp"
   ]
  },
  {
   "cell_type": "code",
   "execution_count": 6,
   "metadata": {},
   "outputs": [],
   "source": [
    "def findAnswer(no):\n",
    "    ansN = 0\n",
    "    ans = ''\n",
    "    qstring = cutQuestion(no)\n",
    "    result = Google(qstring)\n",
    "    for op in \"ABC\":\n",
    "        score = result.count(q_list[no][op])\n",
    "        if score > ansN:\n",
    "            ans = op\n",
    "            ansN = score\n",
    "    # print ans, ansN\n",
    "    return ans"
   ]
  },
  {
   "cell_type": "code",
   "execution_count": 13,
   "metadata": {},
   "outputs": [],
   "source": [
    "def ultimate():\n",
    "    ans_list = []\n",
    "    for no in range(len(q_list)):\n",
    "        ans = findAnswer(no)\n",
    "        print no, ans\n",
    "        ans_list.append(ans)\n",
    "    print ans_list\n",
    "    return ans_list"
   ]
  },
  {
   "cell_type": "code",
   "execution_count": 8,
   "metadata": {},
   "outputs": [
    {
     "name": "stdout",
     "output_type": "stream",
     "text": [
      "主權 國家 國際 致力 於 國際法 安全 經濟 發展 社會 人權 公民自由 政治 民主 世界 和平 方面 合作 大戰 後 國際聯盟 戰爭 話\n",
      "0 B\n",
      "於 太平洋 島嶼 國家 威靈頓 城市 奧克蘭 區 紐西蘭 北島 南島 島 庫克海峽\n",
      "1 A\n",
      "國家 城市 阿姆斯特丹 鹿特丹 海牙 憲法 政府 國王 王宮 館 於 國際 法庭 全世界 量 港口\n",
      "2 C\n",
      "西非 國家 於 非洲 幾內亞灣 頂點 鄰國 貝南 查德 國界 正東 喀麥隆 全 人口 原本 西南 海港 城市 拉哥斯 地理位置 全國 國土 中央 阿布札\n",
      "3 B\n",
      "作品 飲食 男女 山 宴 理性 感性 冰風 臥虎藏龍 色戒 Pi 奇幻\n",
      "4 A\n",
      "美國 加利福尼 亞州 都市 霧 丘陵地形 混合 建築 風格 金門 大橋 纜車 魔島 監獄 中國 城 景點 銀行 公司 機構 總部 GAP 太平洋 瓦 電 Yelp Pinterest Twitter 優步 Mozilla Craigslist\n",
      "5 \n",
      "日本 戰國 時代 江戶 幕府 任征夷 將軍 德 川次郎 郎源 朝臣 家康 於 實際 織田 信長 豐臣秀 戰國三傑\n",
      "6 A\n",
      "於 印歐 語系 義 大利 語族 拉提姆 地區 拉齊 奧區 羅馬帝國 語言 基督 宗教 神職 人員 學者 流利 羅馬 天主教 傳統 會議 禮拜 儀式 國家 大學 有關 課程\n",
      "7 A\n",
      "於 美國 夏威夷州 歐胡島 海港 州 首府 檀香山 島嶼 設施 海軍 深水 軍港 美國海軍 太平洋 艦隊 總部 所在地 日軍 突襲 史稱 珍珠港事件 事件 世界 大戰 戰場 部分 戰事\n",
      "8 B\n",
      "部位 於芬蘭 埃斯波 事 生產 行動 通訊 設備 和服 務 跨國 公司 於 伐木 基礎 業務 技術 研發 消費者 部門 後 Nokia 品牌 富士康 HMD\n",
      "9 B\n",
      "世界 半導體 公司 x86 架構 理器 部位 於 美國 加利福尼 亞州 聖 克拉拉 羅伯特 伊斯 高登 摩爾 安迪 葛洛夫 電子 Integrated Electronics 階 晶片 設計 能力 領導 英特 爾 板 路卡\n",
      "10 \n",
      "簡 日治 時期 立的 帝 國 首任 校長幣 定位 醫學 農學 實業 大學 總督 伊澤多喜 綜合 目標 大戰 後 名國 學風\n",
      "11 \n",
      "於 以色列 都市 地中海 死海 猶太教 基督教 伊斯 蘭教 三大亞伯 拉罕 宗教 聖地\n",
      "12 C\n",
      "濱臨 東 地中海 中心 城鎮 巴特 亞姆 霍隆 拉馬特 甘 佩塔提克瓦 里雄萊錫安 沙龍 赫茲利亞 城市 人口 以色列 區 地帶 經濟 樞紐 特拉 維夫 世界 趨勢 中東 生活 費用 大城市\n",
      "13 A\n",
      "中華 人民 共和 西南 地區 省份 省會 成都市 四川 簡稱川 巴國 蜀國 諸侯國 巴蜀 歷史 風光 物產 天府 之國\n",
      "14 A\n",
      "官方 以色列 於西亞 主權 國家 於 地中海 紅海亞 喀巴灣 黎巴嫩 敘利亞 東與約旦 巴勒斯坦 領土 約旦河 地區 加薩 走廊 東西 西南 埃及\n"
     ]
    },
    {
     "name": "stderr",
     "output_type": "stream",
     "text": [
      "Exception in thread Thread-149:\n",
      "Traceback (most recent call last):\n",
      "  File \"/usr/local/Cellar/python/2.7.12_2/Frameworks/Python.framework/Versions/2.7/lib/python2.7/threading.py\", line 801, in __bootstrap_inner\n",
      "    self.run()\n",
      "  File \"/usr/local/Cellar/python/2.7.12_2/Frameworks/Python.framework/Versions/2.7/lib/python2.7/threading.py\", line 754, in run\n",
      "    self.__target(*self.__args, **self.__kwargs)\n",
      "  File \"googlesearch/googlesearch.py\", line 84, in getText\n",
      "    soup = BeautifulSoup(self.getMarkup(), \"lxml\")\n",
      "  File \"googlesearch/googlesearch.py\", line 94, in getMarkup\n",
      "    response = opener.open(self.url);\n",
      "  File \"/usr/local/Cellar/python/2.7.12_2/Frameworks/Python.framework/Versions/2.7/lib/python2.7/urllib2.py\", line 429, in open\n",
      "    response = self._open(req, data)\n",
      "  File \"/usr/local/Cellar/python/2.7.12_2/Frameworks/Python.framework/Versions/2.7/lib/python2.7/urllib2.py\", line 447, in _open\n",
      "    '_open', req)\n",
      "  File \"/usr/local/Cellar/python/2.7.12_2/Frameworks/Python.framework/Versions/2.7/lib/python2.7/urllib2.py\", line 407, in _call_chain\n",
      "    result = func(*args)\n",
      "  File \"/usr/local/Cellar/python/2.7.12_2/Frameworks/Python.framework/Versions/2.7/lib/python2.7/urllib2.py\", line 1228, in http_open\n",
      "    return self.do_open(httplib.HTTPConnection, req)\n",
      "  File \"/usr/local/Cellar/python/2.7.12_2/Frameworks/Python.framework/Versions/2.7/lib/python2.7/urllib2.py\", line 1198, in do_open\n",
      "    raise URLError(err)\n",
      "URLError: <urlopen error [Errno 8] nodename nor servname provided, or not known>\n",
      "\n"
     ]
    },
    {
     "name": "stdout",
     "output_type": "stream",
     "text": [
      "15 B\n",
      "簡稱雲 中華 人民 共和 地區 省份 省會 昆明 雲南 人類 生活 距今 元謀 猿人 中國 亞洲 戰國 時期 族 部落 生息\n",
      "16 B\n",
      "廣東 話 廣州 人慣 白話 人 唐 於 漢藏語 系漢 語族 聲調 語言 於廣東 香港 澳門 廣西 海南 中國 官話 吳語 母語 人數\n"
     ]
    },
    {
     "name": "stderr",
     "output_type": "stream",
     "text": [
      "Exception in thread Thread-169:\n",
      "Traceback (most recent call last):\n",
      "  File \"/usr/local/Cellar/python/2.7.12_2/Frameworks/Python.framework/Versions/2.7/lib/python2.7/threading.py\", line 801, in __bootstrap_inner\n",
      "    self.run()\n",
      "  File \"/usr/local/Cellar/python/2.7.12_2/Frameworks/Python.framework/Versions/2.7/lib/python2.7/threading.py\", line 754, in run\n",
      "    self.__target(*self.__args, **self.__kwargs)\n",
      "  File \"googlesearch/googlesearch.py\", line 84, in getText\n",
      "    soup = BeautifulSoup(self.getMarkup(), \"lxml\")\n",
      "  File \"googlesearch/googlesearch.py\", line 94, in getMarkup\n",
      "    response = opener.open(self.url);\n",
      "  File \"/usr/local/Cellar/python/2.7.12_2/Frameworks/Python.framework/Versions/2.7/lib/python2.7/urllib2.py\", line 429, in open\n",
      "    response = self._open(req, data)\n",
      "  File \"/usr/local/Cellar/python/2.7.12_2/Frameworks/Python.framework/Versions/2.7/lib/python2.7/urllib2.py\", line 447, in _open\n",
      "    '_open', req)\n",
      "  File \"/usr/local/Cellar/python/2.7.12_2/Frameworks/Python.framework/Versions/2.7/lib/python2.7/urllib2.py\", line 407, in _call_chain\n",
      "    result = func(*args)\n",
      "  File \"/usr/local/Cellar/python/2.7.12_2/Frameworks/Python.framework/Versions/2.7/lib/python2.7/urllib2.py\", line 1241, in https_open\n",
      "    context=self._context)\n",
      "  File \"/usr/local/Cellar/python/2.7.12_2/Frameworks/Python.framework/Versions/2.7/lib/python2.7/urllib2.py\", line 1198, in do_open\n",
      "    raise URLError(err)\n",
      "URLError: <urlopen error [Errno 8] nodename nor servname provided, or not known>\n",
      "\n",
      "Exception in thread Thread-168:\n",
      "Traceback (most recent call last):\n",
      "  File \"/usr/local/Cellar/python/2.7.12_2/Frameworks/Python.framework/Versions/2.7/lib/python2.7/threading.py\", line 801, in __bootstrap_inner\n",
      "    self.run()\n",
      "  File \"/usr/local/Cellar/python/2.7.12_2/Frameworks/Python.framework/Versions/2.7/lib/python2.7/threading.py\", line 754, in run\n",
      "    self.__target(*self.__args, **self.__kwargs)\n",
      "  File \"googlesearch/googlesearch.py\", line 84, in getText\n",
      "    soup = BeautifulSoup(self.getMarkup(), \"lxml\")\n",
      "  File \"googlesearch/googlesearch.py\", line 94, in getMarkup\n",
      "    response = opener.open(self.url);\n",
      "  File \"/usr/local/Cellar/python/2.7.12_2/Frameworks/Python.framework/Versions/2.7/lib/python2.7/urllib2.py\", line 429, in open\n",
      "    response = self._open(req, data)\n",
      "  File \"/usr/local/Cellar/python/2.7.12_2/Frameworks/Python.framework/Versions/2.7/lib/python2.7/urllib2.py\", line 447, in _open\n",
      "    '_open', req)\n",
      "  File \"/usr/local/Cellar/python/2.7.12_2/Frameworks/Python.framework/Versions/2.7/lib/python2.7/urllib2.py\", line 407, in _call_chain\n",
      "    result = func(*args)\n",
      "  File \"/usr/local/Cellar/python/2.7.12_2/Frameworks/Python.framework/Versions/2.7/lib/python2.7/urllib2.py\", line 1241, in https_open\n",
      "    context=self._context)\n",
      "  File \"/usr/local/Cellar/python/2.7.12_2/Frameworks/Python.framework/Versions/2.7/lib/python2.7/urllib2.py\", line 1195, in do_open\n",
      "    h.request(req.get_method(), req.get_selector(), req.data, headers)\n",
      "  File \"/usr/local/Cellar/python/2.7.12_2/Frameworks/Python.framework/Versions/2.7/lib/python2.7/httplib.py\", line 1057, in request\n",
      "    self._send_request(method, url, body, headers)\n",
      "  File \"/usr/local/Cellar/python/2.7.12_2/Frameworks/Python.framework/Versions/2.7/lib/python2.7/httplib.py\", line 1097, in _send_request\n",
      "    self.endheaders(body)\n",
      "  File \"/usr/local/Cellar/python/2.7.12_2/Frameworks/Python.framework/Versions/2.7/lib/python2.7/httplib.py\", line 1053, in endheaders\n",
      "    self._send_output(message_body)\n",
      "  File \"/usr/local/Cellar/python/2.7.12_2/Frameworks/Python.framework/Versions/2.7/lib/python2.7/httplib.py\", line 897, in _send_output\n",
      "    self.send(msg)\n",
      "  File \"/usr/local/Cellar/python/2.7.12_2/Frameworks/Python.framework/Versions/2.7/lib/python2.7/httplib.py\", line 859, in send\n",
      "    self.connect()\n",
      "  File \"/usr/local/Cellar/python/2.7.12_2/Frameworks/Python.framework/Versions/2.7/lib/python2.7/httplib.py\", line 1278, in connect\n",
      "    server_hostname=server_hostname)\n",
      "  File \"/usr/local/Cellar/python/2.7.12_2/Frameworks/Python.framework/Versions/2.7/lib/python2.7/ssl.py\", line 353, in wrap_socket\n",
      "    _context=self)\n",
      "  File \"/usr/local/Cellar/python/2.7.12_2/Frameworks/Python.framework/Versions/2.7/lib/python2.7/ssl.py\", line 601, in __init__\n",
      "    self.do_handshake()\n",
      "  File \"/usr/local/Cellar/python/2.7.12_2/Frameworks/Python.framework/Versions/2.7/lib/python2.7/ssl.py\", line 838, in do_handshake\n",
      "    match_hostname(self.getpeercert(), self.server_hostname)\n",
      "  File \"/usr/local/Cellar/python/2.7.12_2/Frameworks/Python.framework/Versions/2.7/lib/python2.7/ssl.py\", line 272, in match_hostname\n",
      "    % (hostname, ', '.join(map(repr, dnsnames))))\n",
      "CertificateError: hostname 'd1.zgdhhjha.com' doesn't match either of '*.facebook.com', '*.xx.fbcdn.net', '*.fbsbx.com', '*.xz.fbcdn.net', '*.facebook.net', '*.xy.fbcdn.net', '*.messenger.com', 'fb.com', '*.fbcdn.net', '*.fb.com', '*.m.facebook.com', 'messenger.com', 'facebook.com'\n",
      "\n"
     ]
    },
    {
     "name": "stdout",
     "output_type": "stream",
     "text": [
      "17 B\n",
      "高地 綜合 症 高山 反應 高原 人體 海拔 狀態 於 氧氣 濃度 急性 病理 變化 發展 成肺 水腫 腦水 腫 時\n"
     ]
    },
    {
     "name": "stderr",
     "output_type": "stream",
     "text": [
      "Exception in thread Thread-175:\n",
      "Traceback (most recent call last):\n",
      "  File \"/usr/local/Cellar/python/2.7.12_2/Frameworks/Python.framework/Versions/2.7/lib/python2.7/threading.py\", line 801, in __bootstrap_inner\n",
      "    self.run()\n",
      "  File \"/usr/local/Cellar/python/2.7.12_2/Frameworks/Python.framework/Versions/2.7/lib/python2.7/threading.py\", line 754, in run\n",
      "    self.__target(*self.__args, **self.__kwargs)\n",
      "  File \"googlesearch/googlesearch.py\", line 84, in getText\n",
      "    soup = BeautifulSoup(self.getMarkup(), \"lxml\")\n",
      "  File \"googlesearch/googlesearch.py\", line 94, in getMarkup\n",
      "    response = opener.open(self.url);\n",
      "  File \"/usr/local/Cellar/python/2.7.12_2/Frameworks/Python.framework/Versions/2.7/lib/python2.7/urllib2.py\", line 429, in open\n",
      "    response = self._open(req, data)\n",
      "  File \"/usr/local/Cellar/python/2.7.12_2/Frameworks/Python.framework/Versions/2.7/lib/python2.7/urllib2.py\", line 447, in _open\n",
      "    '_open', req)\n",
      "  File \"/usr/local/Cellar/python/2.7.12_2/Frameworks/Python.framework/Versions/2.7/lib/python2.7/urllib2.py\", line 407, in _call_chain\n",
      "    result = func(*args)\n",
      "  File \"/usr/local/Cellar/python/2.7.12_2/Frameworks/Python.framework/Versions/2.7/lib/python2.7/urllib2.py\", line 1241, in https_open\n",
      "    context=self._context)\n",
      "  File \"/usr/local/Cellar/python/2.7.12_2/Frameworks/Python.framework/Versions/2.7/lib/python2.7/urllib2.py\", line 1198, in do_open\n",
      "    raise URLError(err)\n",
      "URLError: <urlopen error [Errno 8] nodename nor servname provided, or not known>\n",
      "\n"
     ]
    },
    {
     "name": "stdout",
     "output_type": "stream",
     "text": [
      "18 B\n",
      "座位 於 歐洲 中心 山脈 義 大利 邊界 法國 東 瑞士 列支 敦 斯登 地利 德國 斯洛維尼亞 細分 部分 地中海 白朗峰 西阿爾 卑斯山 奧 斯特 谷 布勒 山口 和義 交界 中阿爾\n",
      "19 B\n"
     ]
    }
   ],
   "source": [
    "if __name__== \"__main__\":\n",
    "  ultimate()"
   ]
  },
  {
   "cell_type": "code",
   "execution_count": 17,
   "metadata": {
    "scrolled": false
   },
   "outputs": [
    {
     "name": "stdout",
     "output_type": "stream",
     "text": [
      "主權 國家 國際 致力 於 國際法 安全 經濟 發展 社會 wiki\n",
      "0 B\n",
      "於 太平洋 島嶼 國家 威靈頓 城市 奧克蘭 區 紐西蘭 北島 wiki\n",
      "1 A\n",
      "國家 城市 阿姆斯特丹 鹿特丹 海牙 憲法 政府 國王 王宮 館 wiki\n"
     ]
    },
    {
     "name": "stderr",
     "output_type": "stream",
     "text": [
      "Exception in thread Thread-955:\n",
      "Traceback (most recent call last):\n",
      "  File \"/usr/local/Cellar/python/2.7.12_2/Frameworks/Python.framework/Versions/2.7/lib/python2.7/threading.py\", line 801, in __bootstrap_inner\n",
      "    self.run()\n",
      "  File \"/usr/local/Cellar/python/2.7.12_2/Frameworks/Python.framework/Versions/2.7/lib/python2.7/threading.py\", line 754, in run\n",
      "    self.__target(*self.__args, **self.__kwargs)\n",
      "  File \"googlesearch/googlesearch.py\", line 84, in getText\n",
      "    soup = BeautifulSoup(self.getMarkup(), \"lxml\")\n",
      "  File \"googlesearch/googlesearch.py\", line 94, in getMarkup\n",
      "    response = opener.open(self.url);\n",
      "  File \"/usr/local/Cellar/python/2.7.12_2/Frameworks/Python.framework/Versions/2.7/lib/python2.7/urllib2.py\", line 429, in open\n",
      "    response = self._open(req, data)\n",
      "  File \"/usr/local/Cellar/python/2.7.12_2/Frameworks/Python.framework/Versions/2.7/lib/python2.7/urllib2.py\", line 447, in _open\n",
      "    '_open', req)\n",
      "  File \"/usr/local/Cellar/python/2.7.12_2/Frameworks/Python.framework/Versions/2.7/lib/python2.7/urllib2.py\", line 407, in _call_chain\n",
      "    result = func(*args)\n",
      "  File \"/usr/local/Cellar/python/2.7.12_2/Frameworks/Python.framework/Versions/2.7/lib/python2.7/urllib2.py\", line 1241, in https_open\n",
      "    context=self._context)\n",
      "  File \"/usr/local/Cellar/python/2.7.12_2/Frameworks/Python.framework/Versions/2.7/lib/python2.7/urllib2.py\", line 1198, in do_open\n",
      "    raise URLError(err)\n",
      "URLError: <urlopen error [Errno 8] nodename nor servname provided, or not known>\n",
      "\n",
      "Exception in thread Thread-953:\n",
      "Traceback (most recent call last):\n",
      "  File \"/usr/local/Cellar/python/2.7.12_2/Frameworks/Python.framework/Versions/2.7/lib/python2.7/threading.py\", line 801, in __bootstrap_inner\n",
      "    self.run()\n",
      "  File \"/usr/local/Cellar/python/2.7.12_2/Frameworks/Python.framework/Versions/2.7/lib/python2.7/threading.py\", line 754, in run\n",
      "    self.__target(*self.__args, **self.__kwargs)\n",
      "  File \"googlesearch/googlesearch.py\", line 84, in getText\n",
      "    soup = BeautifulSoup(self.getMarkup(), \"lxml\")\n",
      "  File \"googlesearch/googlesearch.py\", line 94, in getMarkup\n",
      "    response = opener.open(self.url);\n",
      "  File \"/usr/local/Cellar/python/2.7.12_2/Frameworks/Python.framework/Versions/2.7/lib/python2.7/urllib2.py\", line 429, in open\n",
      "    response = self._open(req, data)\n",
      "  File \"/usr/local/Cellar/python/2.7.12_2/Frameworks/Python.framework/Versions/2.7/lib/python2.7/urllib2.py\", line 447, in _open\n",
      "    '_open', req)\n",
      "  File \"/usr/local/Cellar/python/2.7.12_2/Frameworks/Python.framework/Versions/2.7/lib/python2.7/urllib2.py\", line 407, in _call_chain\n",
      "    result = func(*args)\n",
      "  File \"/usr/local/Cellar/python/2.7.12_2/Frameworks/Python.framework/Versions/2.7/lib/python2.7/urllib2.py\", line 1241, in https_open\n",
      "    context=self._context)\n",
      "  File \"/usr/local/Cellar/python/2.7.12_2/Frameworks/Python.framework/Versions/2.7/lib/python2.7/urllib2.py\", line 1198, in do_open\n",
      "    raise URLError(err)\n",
      "URLError: <urlopen error [Errno 8] nodename nor servname provided, or not known>\n",
      "\n"
     ]
    },
    {
     "name": "stdout",
     "output_type": "stream",
     "text": [
      "2 C\n",
      "西非 國家 於 非洲 幾內亞灣 頂點 鄰國 貝南 查德 國界 wiki\n",
      "3 B\n",
      "作品 飲食 男女 山 宴 理性 感性 冰風 臥虎藏龍 色戒 wiki\n"
     ]
    },
    {
     "name": "stderr",
     "output_type": "stream",
     "text": [
      "Exception in thread Thread-971:\n",
      "Traceback (most recent call last):\n",
      "  File \"/usr/local/Cellar/python/2.7.12_2/Frameworks/Python.framework/Versions/2.7/lib/python2.7/threading.py\", line 801, in __bootstrap_inner\n",
      "    self.run()\n",
      "  File \"/usr/local/Cellar/python/2.7.12_2/Frameworks/Python.framework/Versions/2.7/lib/python2.7/threading.py\", line 754, in run\n",
      "    self.__target(*self.__args, **self.__kwargs)\n",
      "  File \"googlesearch/googlesearch.py\", line 84, in getText\n",
      "    soup = BeautifulSoup(self.getMarkup(), \"lxml\")\n",
      "  File \"googlesearch/googlesearch.py\", line 94, in getMarkup\n",
      "    response = opener.open(self.url);\n",
      "  File \"/usr/local/Cellar/python/2.7.12_2/Frameworks/Python.framework/Versions/2.7/lib/python2.7/urllib2.py\", line 429, in open\n",
      "    response = self._open(req, data)\n",
      "  File \"/usr/local/Cellar/python/2.7.12_2/Frameworks/Python.framework/Versions/2.7/lib/python2.7/urllib2.py\", line 447, in _open\n",
      "    '_open', req)\n",
      "  File \"/usr/local/Cellar/python/2.7.12_2/Frameworks/Python.framework/Versions/2.7/lib/python2.7/urllib2.py\", line 407, in _call_chain\n",
      "    result = func(*args)\n",
      "  File \"/usr/local/Cellar/python/2.7.12_2/Frameworks/Python.framework/Versions/2.7/lib/python2.7/urllib2.py\", line 1241, in https_open\n",
      "    context=self._context)\n",
      "  File \"/usr/local/Cellar/python/2.7.12_2/Frameworks/Python.framework/Versions/2.7/lib/python2.7/urllib2.py\", line 1198, in do_open\n",
      "    raise URLError(err)\n",
      "URLError: <urlopen error [Errno 8] nodename nor servname provided, or not known>\n",
      "\n"
     ]
    },
    {
     "name": "stdout",
     "output_type": "stream",
     "text": [
      "4 A\n",
      "美國 加利福尼 亞州 都市 霧 丘陵地形 混合 建築 風格 金門 wiki\n",
      "5 C\n",
      "日本 戰國 時代 江戶 幕府 任征夷 將軍 德 川次郎 郎源 wiki\n",
      "6 A\n",
      "於 印歐 語系 義 大利 語族 拉提姆 地區 拉齊 奧區 wiki\n"
     ]
    },
    {
     "name": "stderr",
     "output_type": "stream",
     "text": [
      "Exception in thread Thread-1005:\n",
      "Traceback (most recent call last):\n",
      "  File \"/usr/local/Cellar/python/2.7.12_2/Frameworks/Python.framework/Versions/2.7/lib/python2.7/threading.py\", line 801, in __bootstrap_inner\n",
      "    self.run()\n",
      "  File \"/usr/local/Cellar/python/2.7.12_2/Frameworks/Python.framework/Versions/2.7/lib/python2.7/threading.py\", line 754, in run\n",
      "    self.__target(*self.__args, **self.__kwargs)\n",
      "  File \"googlesearch/googlesearch.py\", line 84, in getText\n",
      "    soup = BeautifulSoup(self.getMarkup(), \"lxml\")\n",
      "  File \"googlesearch/googlesearch.py\", line 94, in getMarkup\n",
      "    response = opener.open(self.url);\n",
      "  File \"/usr/local/Cellar/python/2.7.12_2/Frameworks/Python.framework/Versions/2.7/lib/python2.7/urllib2.py\", line 435, in open\n",
      "    response = meth(req, response)\n",
      "  File \"/usr/local/Cellar/python/2.7.12_2/Frameworks/Python.framework/Versions/2.7/lib/python2.7/urllib2.py\", line 548, in http_response\n",
      "    'http', request, response, code, msg, hdrs)\n",
      "  File \"/usr/local/Cellar/python/2.7.12_2/Frameworks/Python.framework/Versions/2.7/lib/python2.7/urllib2.py\", line 467, in error\n",
      "    result = self._call_chain(*args)\n",
      "  File \"/usr/local/Cellar/python/2.7.12_2/Frameworks/Python.framework/Versions/2.7/lib/python2.7/urllib2.py\", line 407, in _call_chain\n",
      "    result = func(*args)\n",
      "  File \"/usr/local/Cellar/python/2.7.12_2/Frameworks/Python.framework/Versions/2.7/lib/python2.7/urllib2.py\", line 654, in http_error_302\n",
      "    return self.parent.open(new, timeout=req.timeout)\n",
      "  File \"/usr/local/Cellar/python/2.7.12_2/Frameworks/Python.framework/Versions/2.7/lib/python2.7/urllib2.py\", line 435, in open\n",
      "    response = meth(req, response)\n",
      "  File \"/usr/local/Cellar/python/2.7.12_2/Frameworks/Python.framework/Versions/2.7/lib/python2.7/urllib2.py\", line 548, in http_response\n",
      "    'http', request, response, code, msg, hdrs)\n",
      "  File \"/usr/local/Cellar/python/2.7.12_2/Frameworks/Python.framework/Versions/2.7/lib/python2.7/urllib2.py\", line 473, in error\n",
      "    return self._call_chain(*args)\n",
      "  File \"/usr/local/Cellar/python/2.7.12_2/Frameworks/Python.framework/Versions/2.7/lib/python2.7/urllib2.py\", line 407, in _call_chain\n",
      "    result = func(*args)\n",
      "  File \"/usr/local/Cellar/python/2.7.12_2/Frameworks/Python.framework/Versions/2.7/lib/python2.7/urllib2.py\", line 556, in http_error_default\n",
      "    raise HTTPError(req.get_full_url(), code, msg, hdrs, fp)\n",
      "HTTPError: HTTP Error 404: Not Found\n",
      "\n"
     ]
    },
    {
     "name": "stdout",
     "output_type": "stream",
     "text": [
      "7 \n",
      "於 美國 夏威夷州 歐胡島 海港 州 首府 檀香山 島嶼 設施 wiki\n"
     ]
    },
    {
     "name": "stderr",
     "output_type": "stream",
     "text": [
      "Exception in thread Thread-1017:\n",
      "Traceback (most recent call last):\n",
      "  File \"/usr/local/Cellar/python/2.7.12_2/Frameworks/Python.framework/Versions/2.7/lib/python2.7/threading.py\", line 801, in __bootstrap_inner\n",
      "    self.run()\n",
      "  File \"/usr/local/Cellar/python/2.7.12_2/Frameworks/Python.framework/Versions/2.7/lib/python2.7/threading.py\", line 754, in run\n",
      "    self.__target(*self.__args, **self.__kwargs)\n",
      "  File \"googlesearch/googlesearch.py\", line 84, in getText\n",
      "    soup = BeautifulSoup(self.getMarkup(), \"lxml\")\n",
      "  File \"googlesearch/googlesearch.py\", line 94, in getMarkup\n",
      "    response = opener.open(self.url);\n",
      "  File \"/usr/local/Cellar/python/2.7.12_2/Frameworks/Python.framework/Versions/2.7/lib/python2.7/urllib2.py\", line 435, in open\n",
      "    response = meth(req, response)\n",
      "  File \"/usr/local/Cellar/python/2.7.12_2/Frameworks/Python.framework/Versions/2.7/lib/python2.7/urllib2.py\", line 548, in http_response\n",
      "    'http', request, response, code, msg, hdrs)\n",
      "  File \"/usr/local/Cellar/python/2.7.12_2/Frameworks/Python.framework/Versions/2.7/lib/python2.7/urllib2.py\", line 473, in error\n",
      "    return self._call_chain(*args)\n",
      "  File \"/usr/local/Cellar/python/2.7.12_2/Frameworks/Python.framework/Versions/2.7/lib/python2.7/urllib2.py\", line 407, in _call_chain\n",
      "    result = func(*args)\n",
      "  File \"/usr/local/Cellar/python/2.7.12_2/Frameworks/Python.framework/Versions/2.7/lib/python2.7/urllib2.py\", line 556, in http_error_default\n",
      "    raise HTTPError(req.get_full_url(), code, msg, hdrs, fp)\n",
      "HTTPError: HTTP Error 521: Origin Down\n",
      "\n"
     ]
    },
    {
     "name": "stdout",
     "output_type": "stream",
     "text": [
      "8 B\n",
      "部位 於芬蘭 埃斯波 事 生產 行動 通訊 設備 和服 務 wiki\n"
     ]
    },
    {
     "name": "stderr",
     "output_type": "stream",
     "text": [
      "Exception in thread Thread-1025:\n",
      "Traceback (most recent call last):\n",
      "  File \"/usr/local/Cellar/python/2.7.12_2/Frameworks/Python.framework/Versions/2.7/lib/python2.7/threading.py\", line 801, in __bootstrap_inner\n",
      "    self.run()\n",
      "  File \"/usr/local/Cellar/python/2.7.12_2/Frameworks/Python.framework/Versions/2.7/lib/python2.7/threading.py\", line 754, in run\n",
      "    self.__target(*self.__args, **self.__kwargs)\n",
      "  File \"googlesearch/googlesearch.py\", line 84, in getText\n",
      "    soup = BeautifulSoup(self.getMarkup(), \"lxml\")\n",
      "  File \"googlesearch/googlesearch.py\", line 94, in getMarkup\n",
      "    response = opener.open(self.url);\n",
      "  File \"/usr/local/Cellar/python/2.7.12_2/Frameworks/Python.framework/Versions/2.7/lib/python2.7/urllib2.py\", line 429, in open\n",
      "    response = self._open(req, data)\n",
      "  File \"/usr/local/Cellar/python/2.7.12_2/Frameworks/Python.framework/Versions/2.7/lib/python2.7/urllib2.py\", line 447, in _open\n",
      "    '_open', req)\n",
      "  File \"/usr/local/Cellar/python/2.7.12_2/Frameworks/Python.framework/Versions/2.7/lib/python2.7/urllib2.py\", line 407, in _call_chain\n",
      "    result = func(*args)\n",
      "  File \"/usr/local/Cellar/python/2.7.12_2/Frameworks/Python.framework/Versions/2.7/lib/python2.7/urllib2.py\", line 1228, in http_open\n",
      "    return self.do_open(httplib.HTTPConnection, req)\n",
      "  File \"/usr/local/Cellar/python/2.7.12_2/Frameworks/Python.framework/Versions/2.7/lib/python2.7/urllib2.py\", line 1201, in do_open\n",
      "    r = h.getresponse(buffering=True)\n",
      "  File \"/usr/local/Cellar/python/2.7.12_2/Frameworks/Python.framework/Versions/2.7/lib/python2.7/httplib.py\", line 1136, in getresponse\n",
      "    response.begin()\n",
      "  File \"/usr/local/Cellar/python/2.7.12_2/Frameworks/Python.framework/Versions/2.7/lib/python2.7/httplib.py\", line 453, in begin\n",
      "    version, status, reason = self._read_status()\n",
      "  File \"/usr/local/Cellar/python/2.7.12_2/Frameworks/Python.framework/Versions/2.7/lib/python2.7/httplib.py\", line 409, in _read_status\n",
      "    line = self.fp.readline(_MAXLINE + 1)\n",
      "  File \"/usr/local/Cellar/python/2.7.12_2/Frameworks/Python.framework/Versions/2.7/lib/python2.7/socket.py\", line 480, in readline\n",
      "    data = self._sock.recv(self._rbufsize)\n",
      "error: [Errno 54] Connection reset by peer\n",
      "\n"
     ]
    },
    {
     "name": "stdout",
     "output_type": "stream",
     "text": [
      "9 \n",
      "世界 半導體 公司 x86 架構 理器 部位 於 美國 加利福尼 wiki\n",
      "10 \n",
      "簡 日治 時期 立的 帝 國 首任 校長幣 定位 醫學 wiki\n",
      "11 C\n",
      "於 以色列 都市 地中海 死海 猶太教 基督教 伊斯 蘭教 三大亞伯 wiki\n",
      "12 C\n",
      "濱臨 東 地中海 中心 城鎮 巴特 亞姆 霍隆 拉馬特 甘 wiki\n",
      "13 A\n",
      "中華 人民 共和 西南 地區 省份 省會 成都市 四川 簡稱川 wiki\n"
     ]
    },
    {
     "name": "stderr",
     "output_type": "stream",
     "text": [
      "Exception in thread Thread-1075:\n",
      "Traceback (most recent call last):\n",
      "  File \"/usr/local/Cellar/python/2.7.12_2/Frameworks/Python.framework/Versions/2.7/lib/python2.7/threading.py\", line 801, in __bootstrap_inner\n",
      "    self.run()\n",
      "  File \"/usr/local/Cellar/python/2.7.12_2/Frameworks/Python.framework/Versions/2.7/lib/python2.7/threading.py\", line 754, in run\n",
      "    self.__target(*self.__args, **self.__kwargs)\n",
      "  File \"googlesearch/googlesearch.py\", line 84, in getText\n",
      "    soup = BeautifulSoup(self.getMarkup(), \"lxml\")\n",
      "  File \"googlesearch/googlesearch.py\", line 94, in getMarkup\n",
      "    response = opener.open(self.url);\n",
      "  File \"/usr/local/Cellar/python/2.7.12_2/Frameworks/Python.framework/Versions/2.7/lib/python2.7/urllib2.py\", line 429, in open\n",
      "    response = self._open(req, data)\n",
      "  File \"/usr/local/Cellar/python/2.7.12_2/Frameworks/Python.framework/Versions/2.7/lib/python2.7/urllib2.py\", line 447, in _open\n",
      "    '_open', req)\n",
      "  File \"/usr/local/Cellar/python/2.7.12_2/Frameworks/Python.framework/Versions/2.7/lib/python2.7/urllib2.py\", line 407, in _call_chain\n",
      "    result = func(*args)\n",
      "  File \"/usr/local/Cellar/python/2.7.12_2/Frameworks/Python.framework/Versions/2.7/lib/python2.7/urllib2.py\", line 1241, in https_open\n",
      "    context=self._context)\n",
      "  File \"/usr/local/Cellar/python/2.7.12_2/Frameworks/Python.framework/Versions/2.7/lib/python2.7/urllib2.py\", line 1198, in do_open\n",
      "    raise URLError(err)\n",
      "URLError: <urlopen error [Errno 8] nodename nor servname provided, or not known>\n",
      "\n"
     ]
    },
    {
     "name": "stdout",
     "output_type": "stream",
     "text": [
      "14 A\n",
      "官方 以色列 於西亞 主權 國家 於 地中海 紅海亞 喀巴灣 黎巴嫩 wiki"
     ]
    },
    {
     "name": "stderr",
     "output_type": "stream",
     "text": [
      "Exception in thread Thread-1087:\n",
      "Traceback (most recent call last):\n",
      "  File \"/usr/local/Cellar/python/2.7.12_2/Frameworks/Python.framework/Versions/2.7/lib/python2.7/threading.py\", line 801, in __bootstrap_inner\n",
      "    self.run()\n",
      "  File \"/usr/local/Cellar/python/2.7.12_2/Frameworks/Python.framework/Versions/2.7/lib/python2.7/threading.py\", line 754, in run\n",
      "    self.__target(*self.__args, **self.__kwargs)\n",
      "  File \"googlesearch/googlesearch.py\", line 84, in getText\n",
      "    soup = BeautifulSoup(self.getMarkup(), \"lxml\")\n",
      "  File \"googlesearch/googlesearch.py\", line 94, in getMarkup\n",
      "    response = opener.open(self.url);\n",
      "  File \"/usr/local/Cellar/python/2.7.12_2/Frameworks/Python.framework/Versions/2.7/lib/python2.7/urllib2.py\", line 429, in open\n",
      "    response = self._open(req, data)\n",
      "  File \"/usr/local/Cellar/python/2.7.12_2/Frameworks/Python.framework/Versions/2.7/lib/python2.7/urllib2.py\", line 447, in _open\n",
      "    '_open', req)\n",
      "  File \"/usr/local/Cellar/python/2.7.12_2/Frameworks/Python.framework/Versions/2.7/lib/python2.7/urllib2.py\", line 407, in _call_chain\n",
      "    result = func(*args)\n",
      "  File \"/usr/local/Cellar/python/2.7.12_2/Frameworks/Python.framework/Versions/2.7/lib/python2.7/urllib2.py\", line 1241, in https_open\n",
      "    context=self._context)\n",
      "  File \"/usr/local/Cellar/python/2.7.12_2/Frameworks/Python.framework/Versions/2.7/lib/python2.7/urllib2.py\", line 1198, in do_open\n",
      "    raise URLError(err)\n",
      "URLError: <urlopen error [Errno 8] nodename nor servname provided, or not known>\n",
      "\n"
     ]
    },
    {
     "name": "stdout",
     "output_type": "stream",
     "text": [
      "\n",
      "15 B\n",
      "簡稱雲 中華 人民 共和 地區 省份 省會 昆明 雲南 人類 wiki\n"
     ]
    },
    {
     "name": "stderr",
     "output_type": "stream",
     "text": [
      "Exception in thread Thread-1096:\n",
      "Traceback (most recent call last):\n",
      "  File \"/usr/local/Cellar/python/2.7.12_2/Frameworks/Python.framework/Versions/2.7/lib/python2.7/threading.py\", line 801, in __bootstrap_inner\n",
      "    self.run()\n",
      "  File \"/usr/local/Cellar/python/2.7.12_2/Frameworks/Python.framework/Versions/2.7/lib/python2.7/threading.py\", line 754, in run\n",
      "    self.__target(*self.__args, **self.__kwargs)\n",
      "  File \"googlesearch/googlesearch.py\", line 84, in getText\n",
      "    soup = BeautifulSoup(self.getMarkup(), \"lxml\")\n",
      "  File \"googlesearch/googlesearch.py\", line 94, in getMarkup\n",
      "    response = opener.open(self.url);\n",
      "  File \"/usr/local/Cellar/python/2.7.12_2/Frameworks/Python.framework/Versions/2.7/lib/python2.7/urllib2.py\", line 429, in open\n",
      "    response = self._open(req, data)\n",
      "  File \"/usr/local/Cellar/python/2.7.12_2/Frameworks/Python.framework/Versions/2.7/lib/python2.7/urllib2.py\", line 447, in _open\n",
      "    '_open', req)\n",
      "  File \"/usr/local/Cellar/python/2.7.12_2/Frameworks/Python.framework/Versions/2.7/lib/python2.7/urllib2.py\", line 407, in _call_chain\n",
      "    result = func(*args)\n",
      "  File \"/usr/local/Cellar/python/2.7.12_2/Frameworks/Python.framework/Versions/2.7/lib/python2.7/urllib2.py\", line 1241, in https_open\n",
      "    context=self._context)\n",
      "  File \"/usr/local/Cellar/python/2.7.12_2/Frameworks/Python.framework/Versions/2.7/lib/python2.7/urllib2.py\", line 1198, in do_open\n",
      "    raise URLError(err)\n",
      "URLError: <urlopen error [Errno 8] nodename nor servname provided, or not known>\n",
      "\n",
      "Exception in thread Thread-1097:\n",
      "Traceback (most recent call last):\n",
      "  File \"/usr/local/Cellar/python/2.7.12_2/Frameworks/Python.framework/Versions/2.7/lib/python2.7/threading.py\", line 801, in __bootstrap_inner\n",
      "    self.run()\n",
      "  File \"/usr/local/Cellar/python/2.7.12_2/Frameworks/Python.framework/Versions/2.7/lib/python2.7/threading.py\", line 754, in run\n",
      "    self.__target(*self.__args, **self.__kwargs)\n",
      "  File \"googlesearch/googlesearch.py\", line 84, in getText\n",
      "    soup = BeautifulSoup(self.getMarkup(), \"lxml\")\n",
      "  File \"googlesearch/googlesearch.py\", line 94, in getMarkup\n",
      "    response = opener.open(self.url);\n",
      "  File \"/usr/local/Cellar/python/2.7.12_2/Frameworks/Python.framework/Versions/2.7/lib/python2.7/urllib2.py\", line 429, in open\n",
      "    response = self._open(req, data)\n",
      "  File \"/usr/local/Cellar/python/2.7.12_2/Frameworks/Python.framework/Versions/2.7/lib/python2.7/urllib2.py\", line 447, in _open\n",
      "    '_open', req)\n",
      "  File \"/usr/local/Cellar/python/2.7.12_2/Frameworks/Python.framework/Versions/2.7/lib/python2.7/urllib2.py\", line 407, in _call_chain\n",
      "    result = func(*args)\n",
      "  File \"/usr/local/Cellar/python/2.7.12_2/Frameworks/Python.framework/Versions/2.7/lib/python2.7/urllib2.py\", line 1241, in https_open\n",
      "    context=self._context)\n",
      "  File \"/usr/local/Cellar/python/2.7.12_2/Frameworks/Python.framework/Versions/2.7/lib/python2.7/urllib2.py\", line 1198, in do_open\n",
      "    raise URLError(err)\n",
      "URLError: <urlopen error [Errno 8] nodename nor servname provided, or not known>\n",
      "\n"
     ]
    },
    {
     "name": "stdout",
     "output_type": "stream",
     "text": [
      "16 B\n",
      "廣東 話 廣州 人慣 白話 人 唐 於 漢藏語 系漢 wiki\n",
      "17 B\n",
      "高地 綜合 症 高山 反應 高原 人體 海拔 狀態 於 wiki\n",
      "18 B\n",
      "座位 於 歐洲 中心 山脈 義 大利 邊界 法國 東 wiki\n"
     ]
    },
    {
     "name": "stderr",
     "output_type": "stream",
     "text": [
      "Exception in thread Thread-1127:\n",
      "Traceback (most recent call last):\n",
      "  File \"/usr/local/Cellar/python/2.7.12_2/Frameworks/Python.framework/Versions/2.7/lib/python2.7/threading.py\", line 801, in __bootstrap_inner\n",
      "    self.run()\n",
      "  File \"/usr/local/Cellar/python/2.7.12_2/Frameworks/Python.framework/Versions/2.7/lib/python2.7/threading.py\", line 754, in run\n",
      "    self.__target(*self.__args, **self.__kwargs)\n",
      "  File \"googlesearch/googlesearch.py\", line 84, in getText\n",
      "    soup = BeautifulSoup(self.getMarkup(), \"lxml\")\n",
      "  File \"googlesearch/googlesearch.py\", line 94, in getMarkup\n",
      "    response = opener.open(self.url);\n",
      "  File \"/usr/local/Cellar/python/2.7.12_2/Frameworks/Python.framework/Versions/2.7/lib/python2.7/urllib2.py\", line 429, in open\n",
      "    response = self._open(req, data)\n",
      "  File \"/usr/local/Cellar/python/2.7.12_2/Frameworks/Python.framework/Versions/2.7/lib/python2.7/urllib2.py\", line 447, in _open\n",
      "    '_open', req)\n",
      "  File \"/usr/local/Cellar/python/2.7.12_2/Frameworks/Python.framework/Versions/2.7/lib/python2.7/urllib2.py\", line 407, in _call_chain\n",
      "    result = func(*args)\n",
      "  File \"/usr/local/Cellar/python/2.7.12_2/Frameworks/Python.framework/Versions/2.7/lib/python2.7/urllib2.py\", line 1241, in https_open\n",
      "    context=self._context)\n",
      "  File \"/usr/local/Cellar/python/2.7.12_2/Frameworks/Python.framework/Versions/2.7/lib/python2.7/urllib2.py\", line 1198, in do_open\n",
      "    raise URLError(err)\n",
      "URLError: <urlopen error [Errno 8] nodename nor servname provided, or not known>\n",
      "\n",
      "Exception in thread Thread-1125:\n",
      "Traceback (most recent call last):\n",
      "  File \"/usr/local/Cellar/python/2.7.12_2/Frameworks/Python.framework/Versions/2.7/lib/python2.7/threading.py\", line 801, in __bootstrap_inner\n",
      "    self.run()\n",
      "  File \"/usr/local/Cellar/python/2.7.12_2/Frameworks/Python.framework/Versions/2.7/lib/python2.7/threading.py\", line 754, in run\n",
      "    self.__target(*self.__args, **self.__kwargs)\n",
      "  File \"googlesearch/googlesearch.py\", line 84, in getText\n",
      "    soup = BeautifulSoup(self.getMarkup(), \"lxml\")\n",
      "  File \"googlesearch/googlesearch.py\", line 94, in getMarkup\n",
      "    response = opener.open(self.url);\n",
      "  File \"/usr/local/Cellar/python/2.7.12_2/Frameworks/Python.framework/Versions/2.7/lib/python2.7/urllib2.py\", line 435, in open\n",
      "    response = meth(req, response)\n",
      "  File \"/usr/local/Cellar/python/2.7.12_2/Frameworks/Python.framework/Versions/2.7/lib/python2.7/urllib2.py\", line 548, in http_response\n",
      "    'http', request, response, code, msg, hdrs)\n",
      "  File \"/usr/local/Cellar/python/2.7.12_2/Frameworks/Python.framework/Versions/2.7/lib/python2.7/urllib2.py\", line 467, in error\n",
      "    result = self._call_chain(*args)\n",
      "  File \"/usr/local/Cellar/python/2.7.12_2/Frameworks/Python.framework/Versions/2.7/lib/python2.7/urllib2.py\", line 407, in _call_chain\n",
      "    result = func(*args)\n",
      "  File \"/usr/local/Cellar/python/2.7.12_2/Frameworks/Python.framework/Versions/2.7/lib/python2.7/urllib2.py\", line 654, in http_error_302\n",
      "    return self.parent.open(new, timeout=req.timeout)\n",
      "  File \"/usr/local/Cellar/python/2.7.12_2/Frameworks/Python.framework/Versions/2.7/lib/python2.7/urllib2.py\", line 435, in open\n",
      "    response = meth(req, response)\n",
      "  File \"/usr/local/Cellar/python/2.7.12_2/Frameworks/Python.framework/Versions/2.7/lib/python2.7/urllib2.py\", line 548, in http_response\n",
      "    'http', request, response, code, msg, hdrs)\n",
      "  File \"/usr/local/Cellar/python/2.7.12_2/Frameworks/Python.framework/Versions/2.7/lib/python2.7/urllib2.py\", line 473, in error\n",
      "    return self._call_chain(*args)\n",
      "  File \"/usr/local/Cellar/python/2.7.12_2/Frameworks/Python.framework/Versions/2.7/lib/python2.7/urllib2.py\", line 407, in _call_chain\n",
      "    result = func(*args)\n",
      "  File \"/usr/local/Cellar/python/2.7.12_2/Frameworks/Python.framework/Versions/2.7/lib/python2.7/urllib2.py\", line 556, in http_error_default\n",
      "    raise HTTPError(req.get_full_url(), code, msg, hdrs, fp)\n",
      "HTTPError: HTTP Error 404: Not Found\n",
      "\n"
     ]
    },
    {
     "name": "stdout",
     "output_type": "stream",
     "text": [
      "19 \n",
      "['B', 'A', 'C', 'B', 'A', 'C', 'A', '', 'B', '', '', 'C', 'C', 'A', 'A', 'B', 'B', 'B', 'B', '']\n",
      "277.19432807\n"
     ]
    }
   ],
   "source": [
    "t = timeit('ultimate()', 'from __main__ import ultimate', number=1)\n",
    "print t"
   ]
  },
  {
   "cell_type": "code",
   "execution_count": null,
   "metadata": {
    "collapsed": true
   },
   "outputs": [],
   "source": []
  }
 ],
 "metadata": {
  "kernelspec": {
   "display_name": "Python 2",
   "language": "python",
   "name": "python2"
  },
  "language_info": {
   "codemirror_mode": {
    "name": "ipython",
    "version": 2
   },
   "file_extension": ".py",
   "mimetype": "text/x-python",
   "name": "python",
   "nbconvert_exporter": "python",
   "pygments_lexer": "ipython2",
   "version": "2.7.12"
  }
 },
 "nbformat": 4,
 "nbformat_minor": 2
}
