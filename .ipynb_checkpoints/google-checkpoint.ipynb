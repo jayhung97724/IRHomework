{
 "cells": [
  {
   "cell_type": "code",
   "execution_count": 3,
   "metadata": {},
   "outputs": [],
   "source": [
    "import json\n",
    "import jieba\n",
    "import jieba.posseg as pseg\n",
    "jieba.load_userdict('dict.txt.big.txt')\n",
    "from collections import OrderedDict\n",
    "import locale\n",
    "import pandas as pd\n",
    "locale.setlocale(locale.LC_ALL, 'en_US.UTF-8')\n",
    "from googlesearch.googlesearch import GoogleSearch"
   ]
  },
  {
   "cell_type": "code",
   "execution_count": 4,
   "metadata": {
    "collapsed": true
   },
   "outputs": [],
   "source": [
    "with open('questions_example.json', 'rb') as qf:\n",
    "    q_list = json.load(qf)"
   ]
  },
  {
   "cell_type": "code",
   "execution_count": 30,
   "metadata": {},
   "outputs": [
    {
     "name": "stdout",
     "output_type": "stream",
     "text": [
      "{\"主權\": \"n\", \"國家\": \"n\", \"國際\": \"n\", \"致力\": \"n\", \"於\": \"nr\", \"國際法\": \"nt\", \"安全\": \"an\", \"經濟\": \"n\", \"發展\": \"vn\", \"社會\": \"n\", \"人權\": \"n\", \"公民自由\": \"n\", \"政治\": \"n\", \"民主\": \"n\", \"世界\": \"n\", \"和平\": \"nz\", \"方面\": \"n\", \"合作\": \"vn\", \"大戰\": \"nz\", \"後\": \"nr\", \"國際聯盟\": \"nt\", \"戰爭\": \"n\", \"話\": \"n\"}\n",
      "主權\n"
     ]
    },
    {
     "ename": "NameError",
     "evalue": "name 'qstring' is not defined",
     "output_type": "error",
     "traceback": [
      "\u001b[0;31m---------------------------------------------------------------------------\u001b[0m",
      "\u001b[0;31mNameError\u001b[0m                                 Traceback (most recent call last)",
      "\u001b[0;32m<ipython-input-30-ac379777bf73>\u001b[0m in \u001b[0;36m<module>\u001b[0;34m()\u001b[0m\n\u001b[1;32m     10\u001b[0m     \u001b[0mname\u001b[0m \u001b[0;34m=\u001b[0m \u001b[0mkey\u001b[0m\u001b[0;34m.\u001b[0m\u001b[0mencode\u001b[0m\u001b[0;34m(\u001b[0m\u001b[0;34m'utf-8'\u001b[0m\u001b[0;34m)\u001b[0m\u001b[0;34m\u001b[0m\u001b[0m\n\u001b[1;32m     11\u001b[0m     \u001b[0;32mprint\u001b[0m \u001b[0mname\u001b[0m\u001b[0;34m\u001b[0m\u001b[0m\n\u001b[0;32m---> 12\u001b[0;31m     \u001b[0mqstring\u001b[0m \u001b[0;34m=\u001b[0m \u001b[0mqstring\u001b[0m \u001b[0;34m+\u001b[0m \u001b[0mname\u001b[0m \u001b[0;34m+\u001b[0m \u001b[0;34m\" \"\u001b[0m\u001b[0;34m\u001b[0m\u001b[0m\n\u001b[0m\u001b[1;32m     13\u001b[0m     \u001b[0mq\u001b[0m\u001b[0;34m.\u001b[0m\u001b[0mappend\u001b[0m\u001b[0;34m(\u001b[0m\u001b[0mname\u001b[0m\u001b[0;34m)\u001b[0m\u001b[0;34m\u001b[0m\u001b[0m\n\u001b[1;32m     14\u001b[0m \u001b[0;32mprint\u001b[0m \u001b[0mq\u001b[0m\u001b[0;34m[\u001b[0m\u001b[0;36m0\u001b[0m\u001b[0;34m]\u001b[0m\u001b[0;34m,\u001b[0m \u001b[0mqstring\u001b[0m\u001b[0;34m\u001b[0m\u001b[0m\n",
      "\u001b[0;31mNameError\u001b[0m: name 'qstring' is not defined"
     ]
    }
   ],
   "source": [
    "tempDict = OrderedDict()\n",
    "q = []\n",
    "qstring = ''\n",
    "words = pseg.cut(q_list[0]['Question'])\n",
    "for word in words:\n",
    "    if 'n' in word.flag and not tempDict.has_key(word.word):\n",
    "        tempDict.update({word.word:word.flag})\n",
    "print json.dumps(tempDict, encoding='utf-8', ensure_ascii=False)\n",
    "for key in tempDict.keys():\n",
    "    name = key.encode('utf-8')\n",
    "    print name\n",
    "    qstring = qstring + name + \" \"\n",
    "    q.append(name)\n",
    "print q[0], qstring"
   ]
  },
  {
   "cell_type": "code",
   "execution_count": 6,
   "metadata": {},
   "outputs": [
    {
     "name": "stdout",
     "output_type": "stream",
     "text": [
      "Title: Something | Define Something at Dictionary.com\n",
      "Title: Something (Beatles song) - Wikipedia\n",
      "Title: Something | Definition of Something by Merriam-Webster\n",
      "Title: Something Synonyms, Something Antonyms | Thesaurus.com\n",
      "Title: Something - George Harrison & Eric Clapton - YouTube\n",
      "Title: The Beatles - Something - YouTube\n",
      "Title: something | Definition of something in English by Oxford Dictionaries\n",
      "Title: something Meaning in the Cambridge English Dictionary\n",
      "Title: The Beatles – Something Lyrics | Genius Lyrics\n",
      "Title: Something - definition of something by The Free Dictionary\n"
     ]
    }
   ],
   "source": [
    "from googlesearch.googlesearch import GoogleSearch\n",
    "response = GoogleSearch().search(\"something\")\n",
    "for result in response.results:\n",
    "    print(\"Title: \" + result.title)"
   ]
  },
  {
   "cell_type": "code",
   "execution_count": null,
   "metadata": {
    "collapsed": true
   },
   "outputs": [],
   "source": []
  }
 ],
 "metadata": {
  "kernelspec": {
   "display_name": "Python 2",
   "language": "python",
   "name": "python2"
  },
  "language_info": {
   "codemirror_mode": {
    "name": "ipython",
    "version": 2
   },
   "file_extension": ".py",
   "mimetype": "text/x-python",
   "name": "python",
   "nbconvert_exporter": "python",
   "pygments_lexer": "ipython2",
   "version": "2.7.12"
  }
 },
 "nbformat": 4,
 "nbformat_minor": 2
}
