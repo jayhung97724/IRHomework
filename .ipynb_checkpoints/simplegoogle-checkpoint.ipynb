{
 "cells": [
  {
   "cell_type": "code",
   "execution_count": 38,
   "metadata": {},
   "outputs": [
    {
     "ename": "OSError",
     "evalue": "dlopen(libopencc.so.1, 6): image not found",
     "output_type": "error",
     "traceback": [
      "\u001b[0;31m---------------------------------------------------------------------------\u001b[0m",
      "\u001b[0;31mOSError\u001b[0m                                   Traceback (most recent call last)",
      "\u001b[0;32m<ipython-input-38-33ac57699b95>\u001b[0m in \u001b[0;36m<module>\u001b[0;34m()\u001b[0m\n\u001b[1;32m     10\u001b[0m \u001b[0;32mfrom\u001b[0m \u001b[0mtimeit\u001b[0m \u001b[0;32mimport\u001b[0m \u001b[0mtimeit\u001b[0m\u001b[0;34m\u001b[0m\u001b[0m\n\u001b[1;32m     11\u001b[0m \u001b[0;32mimport\u001b[0m \u001b[0mtime\u001b[0m\u001b[0;34m\u001b[0m\u001b[0m\n\u001b[0;32m---> 12\u001b[0;31m \u001b[0;32mimport\u001b[0m \u001b[0mopencc\u001b[0m\u001b[0;34m\u001b[0m\u001b[0m\n\u001b[0m",
      "\u001b[0;32m/usr/local/lib/python2.7/site-packages/opencc.py\u001b[0m in \u001b[0;36m<module>\u001b[0;34m()\u001b[0m\n\u001b[1;32m     22\u001b[0m     \u001b[0mlibopencc\u001b[0m \u001b[0;34m=\u001b[0m \u001b[0mCDLL\u001b[0m\u001b[0;34m(\u001b[0m\u001b[0m_libopenccfile\u001b[0m\u001b[0;34m,\u001b[0m \u001b[0muse_errno\u001b[0m\u001b[0;34m=\u001b[0m\u001b[0mTrue\u001b[0m\u001b[0;34m)\u001b[0m\u001b[0;34m\u001b[0m\u001b[0m\n\u001b[1;32m     23\u001b[0m \u001b[0;32melse\u001b[0m\u001b[0;34m:\u001b[0m\u001b[0;34m\u001b[0m\u001b[0m\n\u001b[0;32m---> 24\u001b[0;31m     \u001b[0mlibopencc\u001b[0m \u001b[0;34m=\u001b[0m \u001b[0mCDLL\u001b[0m\u001b[0;34m(\u001b[0m\u001b[0;34m'libopencc.so.1'\u001b[0m\u001b[0;34m,\u001b[0m \u001b[0muse_errno\u001b[0m\u001b[0;34m=\u001b[0m\u001b[0mTrue\u001b[0m\u001b[0;34m)\u001b[0m\u001b[0;34m\u001b[0m\u001b[0m\n\u001b[0m\u001b[1;32m     25\u001b[0m \u001b[0;34m\u001b[0m\u001b[0m\n\u001b[1;32m     26\u001b[0m \u001b[0;34m\u001b[0m\u001b[0m\n",
      "\u001b[0;32m/usr/local/Cellar/python/2.7.12_2/Frameworks/Python.framework/Versions/2.7/lib/python2.7/ctypes/__init__.pyc\u001b[0m in \u001b[0;36m__init__\u001b[0;34m(self, name, mode, handle, use_errno, use_last_error)\u001b[0m\n\u001b[1;32m    360\u001b[0m \u001b[0;34m\u001b[0m\u001b[0m\n\u001b[1;32m    361\u001b[0m         \u001b[0;32mif\u001b[0m \u001b[0mhandle\u001b[0m \u001b[0;32mis\u001b[0m \u001b[0mNone\u001b[0m\u001b[0;34m:\u001b[0m\u001b[0;34m\u001b[0m\u001b[0m\n\u001b[0;32m--> 362\u001b[0;31m             \u001b[0mself\u001b[0m\u001b[0;34m.\u001b[0m\u001b[0m_handle\u001b[0m \u001b[0;34m=\u001b[0m \u001b[0m_dlopen\u001b[0m\u001b[0;34m(\u001b[0m\u001b[0mself\u001b[0m\u001b[0;34m.\u001b[0m\u001b[0m_name\u001b[0m\u001b[0;34m,\u001b[0m \u001b[0mmode\u001b[0m\u001b[0;34m)\u001b[0m\u001b[0;34m\u001b[0m\u001b[0m\n\u001b[0m\u001b[1;32m    363\u001b[0m         \u001b[0;32melse\u001b[0m\u001b[0;34m:\u001b[0m\u001b[0;34m\u001b[0m\u001b[0m\n\u001b[1;32m    364\u001b[0m             \u001b[0mself\u001b[0m\u001b[0;34m.\u001b[0m\u001b[0m_handle\u001b[0m \u001b[0;34m=\u001b[0m \u001b[0mhandle\u001b[0m\u001b[0;34m\u001b[0m\u001b[0m\n",
      "\u001b[0;31mOSError\u001b[0m: dlopen(libopencc.so.1, 6): image not found"
     ]
    }
   ],
   "source": [
    "import json\n",
    "import jieba\n",
    "import jieba.posseg as pseg\n",
    "jieba.load_userdict('dict.txt.big.txt')\n",
    "from collections import OrderedDict\n",
    "import locale\n",
    "import pandas as pd\n",
    "locale.setlocale(locale.LC_ALL, 'en_US.UTF-8')\n",
    "from googlesearch.googlesearch import GoogleSearch\n",
    "from timeit import timeit\n",
    "import time\n",
    "from hanziconv import HanziConv"
   ]
  },
  {
   "cell_type": "code",
   "execution_count": 4,
   "metadata": {
    "collapsed": true
   },
   "outputs": [],
   "source": [
    "with open('questions_example.json', 'rb') as qf:\n",
    "    q_list = json.load(qf)"
   ]
  },
  {
   "cell_type": "code",
   "execution_count": 5,
   "metadata": {
    "collapsed": true
   },
   "outputs": [],
   "source": [
    "def cutQuestion(no):\n",
    "    tempDict = OrderedDict()\n",
    "    q = []\n",
    "    words = pseg.cut(q_list[no]['Question'])\n",
    "    for word in words:\n",
    "        if 'n' in word.flag and not tempDict.has_key(word.word):\n",
    "            tempDict.update({word.word:word.flag})\n",
    "    # print json.dumps(tempDict, encoding='utf-8', ensure_ascii=False)\n",
    "    for key in tempDict.keys():\n",
    "        name = key.encode('utf-8')\n",
    "        # print name\n",
    "        q.append(name)\n",
    "    qstring = ' '.join(q[0:20])\n",
    "    # qstring = qstring[0:31]\n",
    "    qstring += ' wiki'\n",
    "    print qstring\n",
    "    return qstring"
   ]
  },
  {
   "cell_type": "code",
   "execution_count": 30,
   "metadata": {
    "collapsed": true
   },
   "outputs": [],
   "source": [
    "def cutQuestion1(no):\n",
    "    qstring = q_list[no]['Question'][0:31].encode('utf-8')\n",
    "    # qstring += ' wiki'\n",
    "    print qstring\n",
    "    return qstring"
   ]
  },
  {
   "cell_type": "code",
   "execution_count": 31,
   "metadata": {},
   "outputs": [
    {
     "name": "stdout",
     "output_type": "stream",
     "text": [
      "是一個由主權國家組成的國際組織，致力於促進各國在國際法、國際安\n",
      "<type 'str'>\n"
     ]
    }
   ],
   "source": [
    "a = cutQuestion1(0)\n",
    "print type(a)"
   ]
  },
  {
   "cell_type": "code",
   "execution_count": 14,
   "metadata": {
    "collapsed": true
   },
   "outputs": [],
   "source": [
    "def Google(qstring):\n",
    "    response = GoogleSearch().search(qstring)\n",
    "\n",
    "    rp = ''\n",
    "    for i in range(10):\n",
    "        rp += response.results[i].title\n",
    "        # print(\"Title: \" + result.title)\n",
    "    # print rp\n",
    "    return rp"
   ]
  },
  {
   "cell_type": "code",
   "execution_count": 33,
   "metadata": {
    "collapsed": true
   },
   "outputs": [],
   "source": [
    "def findAnswer(no):\n",
    "    ansN = 0\n",
    "    ans = ''\n",
    "    qstring = cutQuestion1(no)\n",
    "    result = Google(qstring)\n",
    "    for op in \"ABC\":\n",
    "        score = result.count(q_list[no][op])\n",
    "        if score > ansN:\n",
    "            ans = op\n",
    "            ansN = score\n",
    "    # print ans, ansN\n",
    "    return ans"
   ]
  },
  {
   "cell_type": "code",
   "execution_count": 36,
   "metadata": {
    "collapsed": true
   },
   "outputs": [],
   "source": [
    "def ultimate():\n",
    "    ans_list = []\n",
    "    for no in range(len(q_list)):\n",
    "        ans = findAnswer(no)\n",
    "        print no, ans\n",
    "        ans_list.append(ans)\n",
    "        time.sleep(0.3)\n",
    "    print ans_list\n",
    "    return ans_list"
   ]
  },
  {
   "cell_type": "code",
   "execution_count": 37,
   "metadata": {},
   "outputs": [
    {
     "name": "stdout",
     "output_type": "stream",
     "text": [
      "是一個由主權國家組成的國際組織，致力於促進各國在國際法、國際安\n",
      "0 B\n",
      "位於太平洋西南部的一個島嶼國家，首都為威靈頓，但最大的城市為奧\n",
      "1 A\n",
      "哪個國家最大的三個城市分別為阿姆斯特丹、鹿特丹與海牙。阿姆斯特\n",
      "2 C\n",
      "西非國家，位於非洲的幾內亞灣西岸頂點，鄰國包括西邊的貝南，北邊\n",
      "3 B\n",
      "著名臺灣導演，知名作品包括推手，飲食男女，斷背山，囍宴，理性與\n",
      "4 A\n",
      "是美國加利福尼亞州北部的一座都市，以其涼爽的夏季、多霧、綿延的\n",
      "5 C\n",
      "是日本戰國時代的大名及江戶幕府第一任征夷大將軍，全名德川次郎三\n",
      "6 A\n",
      "屬於印歐語系義大利語族。是最早在拉提姆地區（今義大利的拉齊奧區\n"
     ]
    },
    {
     "name": "stderr",
     "output_type": "stream",
     "text": [
      "Exception in thread Thread-299:\n",
      "Traceback (most recent call last):\n",
      "  File \"/usr/local/Cellar/python/2.7.12_2/Frameworks/Python.framework/Versions/2.7/lib/python2.7/threading.py\", line 801, in __bootstrap_inner\n",
      "    self.run()\n",
      "  File \"/usr/local/Cellar/python/2.7.12_2/Frameworks/Python.framework/Versions/2.7/lib/python2.7/threading.py\", line 754, in run\n",
      "    self.__target(*self.__args, **self.__kwargs)\n",
      "  File \"googlesearch/googlesearch.py\", line 84, in getText\n",
      "    soup = BeautifulSoup(self.getMarkup(), \"lxml\")\n",
      "  File \"googlesearch/googlesearch.py\", line 94, in getMarkup\n",
      "    response = opener.open(self.url);\n",
      "  File \"/usr/local/Cellar/python/2.7.12_2/Frameworks/Python.framework/Versions/2.7/lib/python2.7/urllib2.py\", line 435, in open\n",
      "    response = meth(req, response)\n",
      "  File \"/usr/local/Cellar/python/2.7.12_2/Frameworks/Python.framework/Versions/2.7/lib/python2.7/urllib2.py\", line 548, in http_response\n",
      "    'http', request, response, code, msg, hdrs)\n",
      "  File \"/usr/local/Cellar/python/2.7.12_2/Frameworks/Python.framework/Versions/2.7/lib/python2.7/urllib2.py\", line 473, in error\n",
      "    return self._call_chain(*args)\n",
      "  File \"/usr/local/Cellar/python/2.7.12_2/Frameworks/Python.framework/Versions/2.7/lib/python2.7/urllib2.py\", line 407, in _call_chain\n",
      "    result = func(*args)\n",
      "  File \"/usr/local/Cellar/python/2.7.12_2/Frameworks/Python.framework/Versions/2.7/lib/python2.7/urllib2.py\", line 556, in http_error_default\n",
      "    raise HTTPError(req.get_full_url(), code, msg, hdrs, fp)\n",
      "HTTPError: HTTP Error 404: Not Found\n",
      "\n"
     ]
    },
    {
     "name": "stdout",
     "output_type": "stream",
     "text": [
      "7 A\n",
      "是一個位於美國夏威夷州歐胡島上的海港，位於該州首府檀香山西方。\n",
      "8 B\n",
      "是一家總部位於芬蘭埃斯波主要從事生產行動通訊設備和服務的跨國公\n"
     ]
    },
    {
     "name": "stderr",
     "output_type": "stream",
     "text": [
      "Exception in thread Thread-320:\n",
      "Traceback (most recent call last):\n",
      "  File \"/usr/local/Cellar/python/2.7.12_2/Frameworks/Python.framework/Versions/2.7/lib/python2.7/threading.py\", line 801, in __bootstrap_inner\n",
      "    self.run()\n",
      "  File \"/usr/local/Cellar/python/2.7.12_2/Frameworks/Python.framework/Versions/2.7/lib/python2.7/threading.py\", line 754, in run\n",
      "    self.__target(*self.__args, **self.__kwargs)\n",
      "  File \"googlesearch/googlesearch.py\", line 84, in getText\n",
      "    soup = BeautifulSoup(self.getMarkup(), \"lxml\")\n",
      "  File \"googlesearch/googlesearch.py\", line 94, in getMarkup\n",
      "    response = opener.open(self.url);\n",
      "  File \"/usr/local/Cellar/python/2.7.12_2/Frameworks/Python.framework/Versions/2.7/lib/python2.7/urllib2.py\", line 429, in open\n",
      "    response = self._open(req, data)\n",
      "  File \"/usr/local/Cellar/python/2.7.12_2/Frameworks/Python.framework/Versions/2.7/lib/python2.7/urllib2.py\", line 447, in _open\n",
      "    '_open', req)\n",
      "  File \"/usr/local/Cellar/python/2.7.12_2/Frameworks/Python.framework/Versions/2.7/lib/python2.7/urllib2.py\", line 407, in _call_chain\n",
      "    result = func(*args)\n",
      "  File \"/usr/local/Cellar/python/2.7.12_2/Frameworks/Python.framework/Versions/2.7/lib/python2.7/urllib2.py\", line 1241, in https_open\n",
      "    context=self._context)\n",
      "  File \"/usr/local/Cellar/python/2.7.12_2/Frameworks/Python.framework/Versions/2.7/lib/python2.7/urllib2.py\", line 1198, in do_open\n",
      "    raise URLError(err)\n",
      "URLError: <urlopen error [Errno 8] nodename nor servname provided, or not known>\n",
      "\n",
      "Exception in thread Thread-318:\n",
      "Traceback (most recent call last):\n",
      "  File \"/usr/local/Cellar/python/2.7.12_2/Frameworks/Python.framework/Versions/2.7/lib/python2.7/threading.py\", line 801, in __bootstrap_inner\n",
      "    self.run()\n",
      "  File \"/usr/local/Cellar/python/2.7.12_2/Frameworks/Python.framework/Versions/2.7/lib/python2.7/threading.py\", line 754, in run\n",
      "    self.__target(*self.__args, **self.__kwargs)\n",
      "  File \"googlesearch/googlesearch.py\", line 84, in getText\n",
      "    soup = BeautifulSoup(self.getMarkup(), \"lxml\")\n",
      "  File \"googlesearch/googlesearch.py\", line 94, in getMarkup\n",
      "    response = opener.open(self.url);\n",
      "  File \"/usr/local/Cellar/python/2.7.12_2/Frameworks/Python.framework/Versions/2.7/lib/python2.7/urllib2.py\", line 435, in open\n",
      "    response = meth(req, response)\n",
      "  File \"/usr/local/Cellar/python/2.7.12_2/Frameworks/Python.framework/Versions/2.7/lib/python2.7/urllib2.py\", line 548, in http_response\n",
      "    'http', request, response, code, msg, hdrs)\n",
      "  File \"/usr/local/Cellar/python/2.7.12_2/Frameworks/Python.framework/Versions/2.7/lib/python2.7/urllib2.py\", line 473, in error\n",
      "    return self._call_chain(*args)\n",
      "  File \"/usr/local/Cellar/python/2.7.12_2/Frameworks/Python.framework/Versions/2.7/lib/python2.7/urllib2.py\", line 407, in _call_chain\n",
      "    result = func(*args)\n",
      "  File \"/usr/local/Cellar/python/2.7.12_2/Frameworks/Python.framework/Versions/2.7/lib/python2.7/urllib2.py\", line 556, in http_error_default\n",
      "    raise HTTPError(req.get_full_url(), code, msg, hdrs, fp)\n",
      "HTTPError: HTTP Error 404: Not Found\n",
      "\n"
     ]
    },
    {
     "name": "stdout",
     "output_type": "stream",
     "text": [
      "9 \n",
      "是世界上最大的半導體公司，也是第一家推出x86架構處理器的公司\n",
      "10 B\n",
      "簡稱臺大，前身為日治時期1928年創立的臺北帝國大學，由首任校\n",
      "11 C\n",
      "是位於以色列中部的都市，位於地中海和死海之間。同時是猶太教、基\n",
      "12 C\n",
      "濱臨東地中海，以此為中心的但城鎮群有巴特亞姆、霍隆、拉馬特甘、\n",
      "13 A\n",
      "是中華人民共和國西南地區的一個省份，省會成都市。四川簡稱川或蜀\n",
      "14 A\n",
      "官方稱以色列國，是在位於西亞的主權國家，坐落於地中海東南岸及紅\n"
     ]
    },
    {
     "name": "stderr",
     "output_type": "stream",
     "text": [
      "Exception in thread Thread-382:\n",
      "Traceback (most recent call last):\n",
      "  File \"/usr/local/Cellar/python/2.7.12_2/Frameworks/Python.framework/Versions/2.7/lib/python2.7/threading.py\", line 801, in __bootstrap_inner\n",
      "    self.run()\n",
      "  File \"/usr/local/Cellar/python/2.7.12_2/Frameworks/Python.framework/Versions/2.7/lib/python2.7/threading.py\", line 754, in run\n",
      "    self.__target(*self.__args, **self.__kwargs)\n",
      "  File \"googlesearch/googlesearch.py\", line 84, in getText\n",
      "    soup = BeautifulSoup(self.getMarkup(), \"lxml\")\n",
      "  File \"googlesearch/googlesearch.py\", line 94, in getMarkup\n",
      "    response = opener.open(self.url);\n",
      "  File \"/usr/local/Cellar/python/2.7.12_2/Frameworks/Python.framework/Versions/2.7/lib/python2.7/urllib2.py\", line 435, in open\n",
      "    response = meth(req, response)\n",
      "  File \"/usr/local/Cellar/python/2.7.12_2/Frameworks/Python.framework/Versions/2.7/lib/python2.7/urllib2.py\", line 548, in http_response\n",
      "    'http', request, response, code, msg, hdrs)\n",
      "  File \"/usr/local/Cellar/python/2.7.12_2/Frameworks/Python.framework/Versions/2.7/lib/python2.7/urllib2.py\", line 473, in error\n",
      "    return self._call_chain(*args)\n",
      "  File \"/usr/local/Cellar/python/2.7.12_2/Frameworks/Python.framework/Versions/2.7/lib/python2.7/urllib2.py\", line 407, in _call_chain\n",
      "    result = func(*args)\n",
      "  File \"/usr/local/Cellar/python/2.7.12_2/Frameworks/Python.framework/Versions/2.7/lib/python2.7/urllib2.py\", line 556, in http_error_default\n",
      "    raise HTTPError(req.get_full_url(), code, msg, hdrs, fp)\n",
      "HTTPError: HTTP Error 404: Not Found\n",
      "\n"
     ]
    },
    {
     "name": "stdout",
     "output_type": "stream",
     "text": [
      "15 B\n",
      "簡稱雲或滇，是中華人民共和國西南部邊疆地區的一個省份，省會昆明\n",
      "16 B\n",
      "又稱廣東話、廣州話，兩廣當地人慣稱「白話」，海外華人則稱為「唐\n",
      "17 B\n",
      "或稱「高地綜合症、高山反應、高原反應」，是人體在高海拔狀態由於\n",
      "18 B\n",
      "是一座位於歐洲中心的山脈，它覆蓋了義大利北部邊界、法國東南部、\n"
     ]
    },
    {
     "name": "stderr",
     "output_type": "stream",
     "text": [
      "Exception in thread Thread-421:\n",
      "Traceback (most recent call last):\n",
      "  File \"/usr/local/Cellar/python/2.7.12_2/Frameworks/Python.framework/Versions/2.7/lib/python2.7/threading.py\", line 801, in __bootstrap_inner\n",
      "    self.run()\n",
      "  File \"/usr/local/Cellar/python/2.7.12_2/Frameworks/Python.framework/Versions/2.7/lib/python2.7/threading.py\", line 754, in run\n",
      "    self.__target(*self.__args, **self.__kwargs)\n",
      "  File \"googlesearch/googlesearch.py\", line 84, in getText\n",
      "    soup = BeautifulSoup(self.getMarkup(), \"lxml\")\n",
      "  File \"googlesearch/googlesearch.py\", line 94, in getMarkup\n",
      "    response = opener.open(self.url);\n",
      "  File \"/usr/local/Cellar/python/2.7.12_2/Frameworks/Python.framework/Versions/2.7/lib/python2.7/urllib2.py\", line 429, in open\n",
      "    response = self._open(req, data)\n",
      "  File \"/usr/local/Cellar/python/2.7.12_2/Frameworks/Python.framework/Versions/2.7/lib/python2.7/urllib2.py\", line 447, in _open\n",
      "    '_open', req)\n",
      "  File \"/usr/local/Cellar/python/2.7.12_2/Frameworks/Python.framework/Versions/2.7/lib/python2.7/urllib2.py\", line 407, in _call_chain\n",
      "    result = func(*args)\n",
      "  File \"/usr/local/Cellar/python/2.7.12_2/Frameworks/Python.framework/Versions/2.7/lib/python2.7/urllib2.py\", line 1241, in https_open\n",
      "    context=self._context)\n",
      "  File \"/usr/local/Cellar/python/2.7.12_2/Frameworks/Python.framework/Versions/2.7/lib/python2.7/urllib2.py\", line 1198, in do_open\n",
      "    raise URLError(err)\n",
      "URLError: <urlopen error [SSL: CERTIFICATE_VERIFY_FAILED] certificate verify failed (_ssl.c:590)>\n",
      "\n"
     ]
    },
    {
     "name": "stdout",
     "output_type": "stream",
     "text": [
      "19 B\n",
      "['B', 'A', 'C', 'B', 'A', 'C', 'A', 'A', 'B', '', 'B', 'C', 'C', 'A', 'A', 'B', 'B', 'B', 'B', 'B']\n",
      "It cost 129.134317 sec\n"
     ]
    }
   ],
   "source": [
    "if __name__== \"__main__\":\n",
    "    tStart = time.time()\n",
    "    ultimate()\n",
    "    tEnd = time.time()\n",
    "    period = tEnd - tStart\n",
    "    print \"It cost %f sec\" % period"
   ]
  },
  {
   "cell_type": "code",
   "execution_count": 11,
   "metadata": {
    "scrolled": false
   },
   "outputs": [
    {
     "name": "stdout",
     "output_type": "stream",
     "text": [
      "主權 國家 國際 致力 於 國際法 安全 經濟 發展 社會 人權 公民自由 政治 民主 世界 wiki\n",
      "0 B\n",
      "於 太平洋 島嶼 國家 威靈頓 城市 奧克蘭 區 紐西蘭 北島 南島 島 庫克海峽 wiki\n",
      "1 A\n",
      "國家 城市 阿姆斯特丹 鹿特丹 海牙 憲法 政府 國王 王宮 館 於 國際 法庭 全世界 量 wiki\n"
     ]
    },
    {
     "name": "stderr",
     "output_type": "stream",
     "text": [
      "Exception in thread Thread-87:\n",
      "Traceback (most recent call last):\n",
      "  File \"/usr/local/Cellar/python/2.7.12_2/Frameworks/Python.framework/Versions/2.7/lib/python2.7/threading.py\", line 801, in __bootstrap_inner\n",
      "    self.run()\n",
      "  File \"/usr/local/Cellar/python/2.7.12_2/Frameworks/Python.framework/Versions/2.7/lib/python2.7/threading.py\", line 754, in run\n",
      "    self.__target(*self.__args, **self.__kwargs)\n",
      "  File \"googlesearch/googlesearch.py\", line 84, in getText\n",
      "    soup = BeautifulSoup(self.getMarkup(), \"lxml\")\n",
      "  File \"googlesearch/googlesearch.py\", line 94, in getMarkup\n",
      "    response = opener.open(self.url);\n",
      "  File \"/usr/local/Cellar/python/2.7.12_2/Frameworks/Python.framework/Versions/2.7/lib/python2.7/urllib2.py\", line 429, in open\n",
      "    response = self._open(req, data)\n",
      "  File \"/usr/local/Cellar/python/2.7.12_2/Frameworks/Python.framework/Versions/2.7/lib/python2.7/urllib2.py\", line 447, in _open\n",
      "    '_open', req)\n",
      "  File \"/usr/local/Cellar/python/2.7.12_2/Frameworks/Python.framework/Versions/2.7/lib/python2.7/urllib2.py\", line 407, in _call_chain\n",
      "    result = func(*args)\n",
      "  File \"/usr/local/Cellar/python/2.7.12_2/Frameworks/Python.framework/Versions/2.7/lib/python2.7/urllib2.py\", line 1241, in https_open\n",
      "    context=self._context)\n",
      "  File \"/usr/local/Cellar/python/2.7.12_2/Frameworks/Python.framework/Versions/2.7/lib/python2.7/urllib2.py\", line 1198, in do_open\n",
      "    raise URLError(err)\n",
      "URLError: <urlopen error [Errno 8] nodename nor servname provided, or not known>\n",
      "\n",
      "Exception in thread Thread-88:\n",
      "Traceback (most recent call last):\n",
      "  File \"/usr/local/Cellar/python/2.7.12_2/Frameworks/Python.framework/Versions/2.7/lib/python2.7/threading.py\", line 801, in __bootstrap_inner\n",
      "    self.run()\n",
      "  File \"/usr/local/Cellar/python/2.7.12_2/Frameworks/Python.framework/Versions/2.7/lib/python2.7/threading.py\", line 754, in run\n",
      "    self.__target(*self.__args, **self.__kwargs)\n",
      "  File \"googlesearch/googlesearch.py\", line 84, in getText\n",
      "    soup = BeautifulSoup(self.getMarkup(), \"lxml\")\n",
      "  File \"googlesearch/googlesearch.py\", line 94, in getMarkup\n",
      "    response = opener.open(self.url);\n",
      "  File \"/usr/local/Cellar/python/2.7.12_2/Frameworks/Python.framework/Versions/2.7/lib/python2.7/urllib2.py\", line 435, in open\n",
      "    response = meth(req, response)\n",
      "  File \"/usr/local/Cellar/python/2.7.12_2/Frameworks/Python.framework/Versions/2.7/lib/python2.7/urllib2.py\", line 548, in http_response\n",
      "    'http', request, response, code, msg, hdrs)\n",
      "  File \"/usr/local/Cellar/python/2.7.12_2/Frameworks/Python.framework/Versions/2.7/lib/python2.7/urllib2.py\", line 467, in error\n",
      "    result = self._call_chain(*args)\n",
      "  File \"/usr/local/Cellar/python/2.7.12_2/Frameworks/Python.framework/Versions/2.7/lib/python2.7/urllib2.py\", line 407, in _call_chain\n",
      "    result = func(*args)\n",
      "  File \"/usr/local/Cellar/python/2.7.12_2/Frameworks/Python.framework/Versions/2.7/lib/python2.7/urllib2.py\", line 654, in http_error_302\n",
      "    return self.parent.open(new, timeout=req.timeout)\n",
      "  File \"/usr/local/Cellar/python/2.7.12_2/Frameworks/Python.framework/Versions/2.7/lib/python2.7/urllib2.py\", line 435, in open\n",
      "    response = meth(req, response)\n",
      "  File \"/usr/local/Cellar/python/2.7.12_2/Frameworks/Python.framework/Versions/2.7/lib/python2.7/urllib2.py\", line 548, in http_response\n",
      "    'http', request, response, code, msg, hdrs)\n",
      "  File \"/usr/local/Cellar/python/2.7.12_2/Frameworks/Python.framework/Versions/2.7/lib/python2.7/urllib2.py\", line 473, in error\n",
      "    return self._call_chain(*args)\n",
      "  File \"/usr/local/Cellar/python/2.7.12_2/Frameworks/Python.framework/Versions/2.7/lib/python2.7/urllib2.py\", line 407, in _call_chain\n",
      "    result = func(*args)\n",
      "  File \"/usr/local/Cellar/python/2.7.12_2/Frameworks/Python.framework/Versions/2.7/lib/python2.7/urllib2.py\", line 556, in http_error_default\n",
      "    raise HTTPError(req.get_full_url(), code, msg, hdrs, fp)\n",
      "HTTPError: HTTP Error 404: Not Found\n",
      "\n"
     ]
    },
    {
     "name": "stdout",
     "output_type": "stream",
     "text": [
      "2 C\n",
      "西非 國家 於 非洲 幾內亞灣 頂點 鄰國 貝南 查德 國界 正東 喀麥隆 全 人口 原本 wiki\n"
     ]
    },
    {
     "name": "stderr",
     "output_type": "stream",
     "text": [
      "Exception in thread Thread-99:\n",
      "Traceback (most recent call last):\n",
      "  File \"/usr/local/Cellar/python/2.7.12_2/Frameworks/Python.framework/Versions/2.7/lib/python2.7/threading.py\", line 801, in __bootstrap_inner\n",
      "    self.run()\n",
      "  File \"/usr/local/Cellar/python/2.7.12_2/Frameworks/Python.framework/Versions/2.7/lib/python2.7/threading.py\", line 754, in run\n",
      "    self.__target(*self.__args, **self.__kwargs)\n",
      "  File \"googlesearch/googlesearch.py\", line 84, in getText\n",
      "    soup = BeautifulSoup(self.getMarkup(), \"lxml\")\n",
      "  File \"googlesearch/googlesearch.py\", line 94, in getMarkup\n",
      "    response = opener.open(self.url);\n",
      "  File \"/usr/local/Cellar/python/2.7.12_2/Frameworks/Python.framework/Versions/2.7/lib/python2.7/urllib2.py\", line 429, in open\n",
      "    response = self._open(req, data)\n",
      "  File \"/usr/local/Cellar/python/2.7.12_2/Frameworks/Python.framework/Versions/2.7/lib/python2.7/urllib2.py\", line 447, in _open\n",
      "    '_open', req)\n",
      "  File \"/usr/local/Cellar/python/2.7.12_2/Frameworks/Python.framework/Versions/2.7/lib/python2.7/urllib2.py\", line 407, in _call_chain\n",
      "    result = func(*args)\n",
      "  File \"/usr/local/Cellar/python/2.7.12_2/Frameworks/Python.framework/Versions/2.7/lib/python2.7/urllib2.py\", line 1228, in http_open\n",
      "    return self.do_open(httplib.HTTPConnection, req)\n",
      "  File \"/usr/local/Cellar/python/2.7.12_2/Frameworks/Python.framework/Versions/2.7/lib/python2.7/urllib2.py\", line 1198, in do_open\n",
      "    raise URLError(err)\n",
      "URLError: <urlopen error [Errno 60] Operation timed out>\n",
      "\n"
     ]
    },
    {
     "name": "stdout",
     "output_type": "stream",
     "text": [
      "3 B\n",
      "作品 飲食 男女 山 宴 理性 感性 冰風 臥虎藏龍 色戒 Pi 奇幻 wiki\n"
     ]
    },
    {
     "name": "stderr",
     "output_type": "stream",
     "text": [
      "Exception in thread Thread-111:\n",
      "Traceback (most recent call last):\n",
      "  File \"/usr/local/Cellar/python/2.7.12_2/Frameworks/Python.framework/Versions/2.7/lib/python2.7/threading.py\", line 801, in __bootstrap_inner\n",
      "    self.run()\n",
      "  File \"/usr/local/Cellar/python/2.7.12_2/Frameworks/Python.framework/Versions/2.7/lib/python2.7/threading.py\", line 754, in run\n",
      "    self.__target(*self.__args, **self.__kwargs)\n",
      "  File \"googlesearch/googlesearch.py\", line 84, in getText\n",
      "    soup = BeautifulSoup(self.getMarkup(), \"lxml\")\n",
      "  File \"googlesearch/googlesearch.py\", line 94, in getMarkup\n",
      "    response = opener.open(self.url);\n",
      "  File \"/usr/local/Cellar/python/2.7.12_2/Frameworks/Python.framework/Versions/2.7/lib/python2.7/urllib2.py\", line 429, in open\n",
      "    response = self._open(req, data)\n",
      "  File \"/usr/local/Cellar/python/2.7.12_2/Frameworks/Python.framework/Versions/2.7/lib/python2.7/urllib2.py\", line 447, in _open\n",
      "    '_open', req)\n",
      "  File \"/usr/local/Cellar/python/2.7.12_2/Frameworks/Python.framework/Versions/2.7/lib/python2.7/urllib2.py\", line 407, in _call_chain\n",
      "    result = func(*args)\n",
      "  File \"/usr/local/Cellar/python/2.7.12_2/Frameworks/Python.framework/Versions/2.7/lib/python2.7/urllib2.py\", line 1241, in https_open\n",
      "    context=self._context)\n",
      "  File \"/usr/local/Cellar/python/2.7.12_2/Frameworks/Python.framework/Versions/2.7/lib/python2.7/urllib2.py\", line 1198, in do_open\n",
      "    raise URLError(err)\n",
      "URLError: <urlopen error [Errno 8] nodename nor servname provided, or not known>\n",
      "\n"
     ]
    },
    {
     "name": "stdout",
     "output_type": "stream",
     "text": [
      "4 A\n",
      "美國 加利福尼 亞州 都市 霧 丘陵地形 混合 建築 風格 金門 大橋 纜車 魔島 監獄 中國 wiki\n"
     ]
    },
    {
     "name": "stderr",
     "output_type": "stream",
     "text": [
      "Exception in thread Thread-117:\n",
      "Traceback (most recent call last):\n",
      "  File \"/usr/local/Cellar/python/2.7.12_2/Frameworks/Python.framework/Versions/2.7/lib/python2.7/threading.py\", line 801, in __bootstrap_inner\n",
      "    self.run()\n",
      "  File \"/usr/local/Cellar/python/2.7.12_2/Frameworks/Python.framework/Versions/2.7/lib/python2.7/threading.py\", line 754, in run\n",
      "    self.__target(*self.__args, **self.__kwargs)\n",
      "  File \"googlesearch/googlesearch.py\", line 84, in getText\n",
      "    soup = BeautifulSoup(self.getMarkup(), \"lxml\")\n",
      "  File \"googlesearch/googlesearch.py\", line 94, in getMarkup\n",
      "    response = opener.open(self.url);\n",
      "  File \"/usr/local/Cellar/python/2.7.12_2/Frameworks/Python.framework/Versions/2.7/lib/python2.7/urllib2.py\", line 429, in open\n",
      "    response = self._open(req, data)\n",
      "  File \"/usr/local/Cellar/python/2.7.12_2/Frameworks/Python.framework/Versions/2.7/lib/python2.7/urllib2.py\", line 447, in _open\n",
      "    '_open', req)\n",
      "  File \"/usr/local/Cellar/python/2.7.12_2/Frameworks/Python.framework/Versions/2.7/lib/python2.7/urllib2.py\", line 407, in _call_chain\n",
      "    result = func(*args)\n",
      "  File \"/usr/local/Cellar/python/2.7.12_2/Frameworks/Python.framework/Versions/2.7/lib/python2.7/urllib2.py\", line 1241, in https_open\n",
      "    context=self._context)\n",
      "  File \"/usr/local/Cellar/python/2.7.12_2/Frameworks/Python.framework/Versions/2.7/lib/python2.7/urllib2.py\", line 1198, in do_open\n",
      "    raise URLError(err)\n",
      "URLError: <urlopen error [Errno 8] nodename nor servname provided, or not known>\n",
      "\n"
     ]
    },
    {
     "name": "stdout",
     "output_type": "stream",
     "text": [
      "5 C\n",
      "日本 戰國 時代 江戶 幕府 任征夷 將軍 德 川次郎 郎源 朝臣 家康 於 實際 織田 wiki\n",
      "6 A\n",
      "於 印歐 語系 義 大利 語族 拉提姆 地區 拉齊 奧區 羅馬帝國 語言 基督 宗教 神職 wiki\n"
     ]
    },
    {
     "name": "stderr",
     "output_type": "stream",
     "text": [
      "Exception in thread Thread-141:\n",
      "Traceback (most recent call last):\n",
      "  File \"/usr/local/Cellar/python/2.7.12_2/Frameworks/Python.framework/Versions/2.7/lib/python2.7/threading.py\", line 801, in __bootstrap_inner\n",
      "    self.run()\n",
      "  File \"/usr/local/Cellar/python/2.7.12_2/Frameworks/Python.framework/Versions/2.7/lib/python2.7/threading.py\", line 754, in run\n",
      "    self.__target(*self.__args, **self.__kwargs)\n",
      "  File \"googlesearch/googlesearch.py\", line 84, in getText\n",
      "    soup = BeautifulSoup(self.getMarkup(), \"lxml\")\n",
      "  File \"googlesearch/googlesearch.py\", line 94, in getMarkup\n",
      "    response = opener.open(self.url);\n",
      "  File \"/usr/local/Cellar/python/2.7.12_2/Frameworks/Python.framework/Versions/2.7/lib/python2.7/urllib2.py\", line 429, in open\n",
      "    response = self._open(req, data)\n",
      "  File \"/usr/local/Cellar/python/2.7.12_2/Frameworks/Python.framework/Versions/2.7/lib/python2.7/urllib2.py\", line 447, in _open\n",
      "    '_open', req)\n",
      "  File \"/usr/local/Cellar/python/2.7.12_2/Frameworks/Python.framework/Versions/2.7/lib/python2.7/urllib2.py\", line 407, in _call_chain\n",
      "    result = func(*args)\n",
      "  File \"/usr/local/Cellar/python/2.7.12_2/Frameworks/Python.framework/Versions/2.7/lib/python2.7/urllib2.py\", line 1241, in https_open\n",
      "    context=self._context)\n",
      "  File \"/usr/local/Cellar/python/2.7.12_2/Frameworks/Python.framework/Versions/2.7/lib/python2.7/urllib2.py\", line 1198, in do_open\n",
      "    raise URLError(err)\n",
      "URLError: <urlopen error [Errno 8] nodename nor servname provided, or not known>\n",
      "\n"
     ]
    },
    {
     "name": "stdout",
     "output_type": "stream",
     "text": [
      "7 \n",
      "於 美國 夏威夷州 歐胡島 海港 州 首府 檀香山 島嶼 設施 海軍 深水 軍港 美國海軍 太平洋 wiki\n",
      "8 B\n",
      "部位 於芬蘭 埃斯波 事 生產 行動 通訊 設備 和服 務 跨國 公司 於 伐木 基礎 wiki\n",
      "9 \n",
      "世界 半導體 公司 x86 架構 理器 部位 於 美國 加利福尼 亞州 聖 克拉拉 羅伯特 伊斯 wiki\n",
      "10 \n",
      "簡 日治 時期 立的 帝 國 首任 校長幣 定位 醫學 農學 實業 大學 總督 伊澤多喜 wiki\n"
     ]
    },
    {
     "ename": "KeyboardInterrupt",
     "evalue": "",
     "output_type": "error",
     "traceback": [
      "\u001b[0;31m---------------------------------------------------------------------------\u001b[0m",
      "\u001b[0;31mKeyboardInterrupt\u001b[0m                         Traceback (most recent call last)",
      "\u001b[0;32m<ipython-input-11-ba1227439f7c>\u001b[0m in \u001b[0;36m<module>\u001b[0;34m()\u001b[0m\n\u001b[0;32m----> 1\u001b[0;31m \u001b[0mt\u001b[0m \u001b[0;34m=\u001b[0m \u001b[0mtimeit\u001b[0m\u001b[0;34m(\u001b[0m\u001b[0;34m'ultimate()'\u001b[0m\u001b[0;34m,\u001b[0m \u001b[0;34m'from __main__ import ultimate'\u001b[0m\u001b[0;34m,\u001b[0m \u001b[0mnumber\u001b[0m\u001b[0;34m=\u001b[0m\u001b[0;36m1\u001b[0m\u001b[0;34m)\u001b[0m\u001b[0;34m\u001b[0m\u001b[0m\n\u001b[0m\u001b[1;32m      2\u001b[0m \u001b[0;32mprint\u001b[0m \u001b[0mt\u001b[0m\u001b[0;34m\u001b[0m\u001b[0m\n",
      "\u001b[0;32m/usr/local/Cellar/python/2.7.12_2/Frameworks/Python.framework/Versions/2.7/lib/python2.7/timeit.pyc\u001b[0m in \u001b[0;36mtimeit\u001b[0;34m(stmt, setup, timer, number)\u001b[0m\n\u001b[1;32m    235\u001b[0m            number=default_number):\n\u001b[1;32m    236\u001b[0m     \u001b[0;34m\"\"\"Convenience function to create Timer object and call timeit method.\"\"\"\u001b[0m\u001b[0;34m\u001b[0m\u001b[0m\n\u001b[0;32m--> 237\u001b[0;31m     \u001b[0;32mreturn\u001b[0m \u001b[0mTimer\u001b[0m\u001b[0;34m(\u001b[0m\u001b[0mstmt\u001b[0m\u001b[0;34m,\u001b[0m \u001b[0msetup\u001b[0m\u001b[0;34m,\u001b[0m \u001b[0mtimer\u001b[0m\u001b[0;34m)\u001b[0m\u001b[0;34m.\u001b[0m\u001b[0mtimeit\u001b[0m\u001b[0;34m(\u001b[0m\u001b[0mnumber\u001b[0m\u001b[0;34m)\u001b[0m\u001b[0;34m\u001b[0m\u001b[0m\n\u001b[0m\u001b[1;32m    238\u001b[0m \u001b[0;34m\u001b[0m\u001b[0m\n\u001b[1;32m    239\u001b[0m def repeat(stmt=\"pass\", setup=\"pass\", timer=default_timer,\n",
      "\u001b[0;32m/usr/local/Cellar/python/2.7.12_2/Frameworks/Python.framework/Versions/2.7/lib/python2.7/timeit.pyc\u001b[0m in \u001b[0;36mtimeit\u001b[0;34m(self, number)\u001b[0m\n\u001b[1;32m    200\u001b[0m         \u001b[0mgc\u001b[0m\u001b[0;34m.\u001b[0m\u001b[0mdisable\u001b[0m\u001b[0;34m(\u001b[0m\u001b[0;34m)\u001b[0m\u001b[0;34m\u001b[0m\u001b[0m\n\u001b[1;32m    201\u001b[0m         \u001b[0;32mtry\u001b[0m\u001b[0;34m:\u001b[0m\u001b[0;34m\u001b[0m\u001b[0m\n\u001b[0;32m--> 202\u001b[0;31m             \u001b[0mtiming\u001b[0m \u001b[0;34m=\u001b[0m \u001b[0mself\u001b[0m\u001b[0;34m.\u001b[0m\u001b[0minner\u001b[0m\u001b[0;34m(\u001b[0m\u001b[0mit\u001b[0m\u001b[0;34m,\u001b[0m \u001b[0mself\u001b[0m\u001b[0;34m.\u001b[0m\u001b[0mtimer\u001b[0m\u001b[0;34m)\u001b[0m\u001b[0;34m\u001b[0m\u001b[0m\n\u001b[0m\u001b[1;32m    203\u001b[0m         \u001b[0;32mfinally\u001b[0m\u001b[0;34m:\u001b[0m\u001b[0;34m\u001b[0m\u001b[0m\n\u001b[1;32m    204\u001b[0m             \u001b[0;32mif\u001b[0m \u001b[0mgcold\u001b[0m\u001b[0;34m:\u001b[0m\u001b[0;34m\u001b[0m\u001b[0m\n",
      "\u001b[0;32m/usr/local/Cellar/python/2.7.12_2/Frameworks/Python.framework/Versions/2.7/lib/python2.7/timeit.pyc\u001b[0m in \u001b[0;36minner\u001b[0;34m(_it, _timer)\u001b[0m\n",
      "\u001b[0;32m<ipython-input-9-89c2e050f881>\u001b[0m in \u001b[0;36multimate\u001b[0;34m()\u001b[0m\n\u001b[1;32m      2\u001b[0m     \u001b[0mans_list\u001b[0m \u001b[0;34m=\u001b[0m \u001b[0;34m[\u001b[0m\u001b[0;34m]\u001b[0m\u001b[0;34m\u001b[0m\u001b[0m\n\u001b[1;32m      3\u001b[0m     \u001b[0;32mfor\u001b[0m \u001b[0mno\u001b[0m \u001b[0;32min\u001b[0m \u001b[0mrange\u001b[0m\u001b[0;34m(\u001b[0m\u001b[0mlen\u001b[0m\u001b[0;34m(\u001b[0m\u001b[0mq_list\u001b[0m\u001b[0;34m)\u001b[0m\u001b[0;34m)\u001b[0m\u001b[0;34m:\u001b[0m\u001b[0;34m\u001b[0m\u001b[0m\n\u001b[0;32m----> 4\u001b[0;31m         \u001b[0mans\u001b[0m \u001b[0;34m=\u001b[0m \u001b[0mfindAnswer\u001b[0m\u001b[0;34m(\u001b[0m\u001b[0mno\u001b[0m\u001b[0;34m)\u001b[0m\u001b[0;34m\u001b[0m\u001b[0m\n\u001b[0m\u001b[1;32m      5\u001b[0m         \u001b[0;32mprint\u001b[0m \u001b[0mno\u001b[0m\u001b[0;34m,\u001b[0m \u001b[0mans\u001b[0m\u001b[0;34m\u001b[0m\u001b[0m\n\u001b[1;32m      6\u001b[0m         \u001b[0mans_list\u001b[0m\u001b[0;34m.\u001b[0m\u001b[0mappend\u001b[0m\u001b[0;34m(\u001b[0m\u001b[0mans\u001b[0m\u001b[0;34m)\u001b[0m\u001b[0;34m\u001b[0m\u001b[0m\n",
      "\u001b[0;32m<ipython-input-8-567cdf01a749>\u001b[0m in \u001b[0;36mfindAnswer\u001b[0;34m(no)\u001b[0m\n\u001b[1;32m      3\u001b[0m     \u001b[0mans\u001b[0m \u001b[0;34m=\u001b[0m \u001b[0;34m''\u001b[0m\u001b[0;34m\u001b[0m\u001b[0m\n\u001b[1;32m      4\u001b[0m     \u001b[0mqstring\u001b[0m \u001b[0;34m=\u001b[0m \u001b[0mcutQuestion\u001b[0m\u001b[0;34m(\u001b[0m\u001b[0mno\u001b[0m\u001b[0;34m)\u001b[0m\u001b[0;34m\u001b[0m\u001b[0m\n\u001b[0;32m----> 5\u001b[0;31m     \u001b[0mresult\u001b[0m \u001b[0;34m=\u001b[0m \u001b[0mGoogle\u001b[0m\u001b[0;34m(\u001b[0m\u001b[0mqstring\u001b[0m\u001b[0;34m)\u001b[0m\u001b[0;34m\u001b[0m\u001b[0m\n\u001b[0m\u001b[1;32m      6\u001b[0m     \u001b[0;32mfor\u001b[0m \u001b[0mop\u001b[0m \u001b[0;32min\u001b[0m \u001b[0;34m\"ABC\"\u001b[0m\u001b[0;34m:\u001b[0m\u001b[0;34m\u001b[0m\u001b[0m\n\u001b[1;32m      7\u001b[0m         \u001b[0mscore\u001b[0m \u001b[0;34m=\u001b[0m \u001b[0mresult\u001b[0m\u001b[0;34m.\u001b[0m\u001b[0mcount\u001b[0m\u001b[0;34m(\u001b[0m\u001b[0mq_list\u001b[0m\u001b[0;34m[\u001b[0m\u001b[0mno\u001b[0m\u001b[0;34m]\u001b[0m\u001b[0;34m[\u001b[0m\u001b[0mop\u001b[0m\u001b[0;34m]\u001b[0m\u001b[0;34m)\u001b[0m\u001b[0;34m\u001b[0m\u001b[0m\n",
      "\u001b[0;32m<ipython-input-7-0b7455f989d2>\u001b[0m in \u001b[0;36mGoogle\u001b[0;34m(qstring)\u001b[0m\n\u001b[1;32m      1\u001b[0m \u001b[0;32mdef\u001b[0m \u001b[0mGoogle\u001b[0m\u001b[0;34m(\u001b[0m\u001b[0mqstring\u001b[0m\u001b[0;34m)\u001b[0m\u001b[0;34m:\u001b[0m\u001b[0;34m\u001b[0m\u001b[0m\n\u001b[0;32m----> 2\u001b[0;31m     \u001b[0mresponse\u001b[0m \u001b[0;34m=\u001b[0m \u001b[0mGoogleSearch\u001b[0m\u001b[0;34m(\u001b[0m\u001b[0;34m)\u001b[0m\u001b[0;34m.\u001b[0m\u001b[0msearch\u001b[0m\u001b[0;34m(\u001b[0m\u001b[0mqstring\u001b[0m\u001b[0;34m)\u001b[0m\u001b[0;34m\u001b[0m\u001b[0m\n\u001b[0m\u001b[1;32m      3\u001b[0m \u001b[0;34m\u001b[0m\u001b[0m\n\u001b[1;32m      4\u001b[0m     \u001b[0mrp\u001b[0m \u001b[0;34m=\u001b[0m \u001b[0;34m''\u001b[0m\u001b[0;34m\u001b[0m\u001b[0m\n\u001b[1;32m      5\u001b[0m     \u001b[0;32mfor\u001b[0m \u001b[0mi\u001b[0m \u001b[0;32min\u001b[0m \u001b[0mrange\u001b[0m\u001b[0;34m(\u001b[0m\u001b[0;36m10\u001b[0m\u001b[0;34m)\u001b[0m\u001b[0;34m:\u001b[0m\u001b[0;34m\u001b[0m\u001b[0m\n",
      "\u001b[0;32m/Users/yoyoelf/htdoc/IRHomework/googlesearch/googlesearch.pyc\u001b[0m in \u001b[0;36msearch\u001b[0;34m(self, query, num_results, prefetch_pages, prefetch_threads, language)\u001b[0m\n\u001b[1;32m     57\u001b[0m                     \u001b[0mfetcher_threads\u001b[0m\u001b[0;34m.\u001b[0m\u001b[0mappend\u001b[0m\u001b[0;34m(\u001b[0m\u001b[0mfetcher_thread\u001b[0m\u001b[0;34m)\u001b[0m\u001b[0;34m\u001b[0m\u001b[0m\n\u001b[1;32m     58\u001b[0m         \u001b[0;32mfor\u001b[0m \u001b[0mthread\u001b[0m \u001b[0;32min\u001b[0m \u001b[0mfetcher_threads\u001b[0m\u001b[0;34m:\u001b[0m\u001b[0;34m\u001b[0m\u001b[0m\n\u001b[0;32m---> 59\u001b[0;31m             \u001b[0mthread\u001b[0m\u001b[0;34m.\u001b[0m\u001b[0mjoin\u001b[0m\u001b[0;34m(\u001b[0m\u001b[0;34m)\u001b[0m\u001b[0;34m\u001b[0m\u001b[0m\n\u001b[0m\u001b[1;32m     60\u001b[0m         \u001b[0;32mreturn\u001b[0m \u001b[0mSearchResponse\u001b[0m\u001b[0;34m(\u001b[0m\u001b[0msearchResults\u001b[0m\u001b[0;34m,\u001b[0m \u001b[0mtotal\u001b[0m\u001b[0;34m)\u001b[0m\u001b[0;34m;\u001b[0m\u001b[0;34m\u001b[0m\u001b[0m\n\u001b[1;32m     61\u001b[0m \u001b[0;34m\u001b[0m\u001b[0m\n",
      "\u001b[0;32m/usr/local/Cellar/python/2.7.12_2/Frameworks/Python.framework/Versions/2.7/lib/python2.7/threading.pyc\u001b[0m in \u001b[0;36mjoin\u001b[0;34m(self, timeout)\u001b[0m\n\u001b[1;32m    938\u001b[0m             \u001b[0;32mif\u001b[0m \u001b[0mtimeout\u001b[0m \u001b[0;32mis\u001b[0m \u001b[0mNone\u001b[0m\u001b[0;34m:\u001b[0m\u001b[0;34m\u001b[0m\u001b[0m\n\u001b[1;32m    939\u001b[0m                 \u001b[0;32mwhile\u001b[0m \u001b[0;32mnot\u001b[0m \u001b[0mself\u001b[0m\u001b[0;34m.\u001b[0m\u001b[0m__stopped\u001b[0m\u001b[0;34m:\u001b[0m\u001b[0;34m\u001b[0m\u001b[0m\n\u001b[0;32m--> 940\u001b[0;31m                     \u001b[0mself\u001b[0m\u001b[0;34m.\u001b[0m\u001b[0m__block\u001b[0m\u001b[0;34m.\u001b[0m\u001b[0mwait\u001b[0m\u001b[0;34m(\u001b[0m\u001b[0;34m)\u001b[0m\u001b[0;34m\u001b[0m\u001b[0m\n\u001b[0m\u001b[1;32m    941\u001b[0m                 \u001b[0;32mif\u001b[0m \u001b[0m__debug__\u001b[0m\u001b[0;34m:\u001b[0m\u001b[0;34m\u001b[0m\u001b[0m\n\u001b[1;32m    942\u001b[0m                     \u001b[0mself\u001b[0m\u001b[0;34m.\u001b[0m\u001b[0m_note\u001b[0m\u001b[0;34m(\u001b[0m\u001b[0;34m\"%s.join(): thread stopped\"\u001b[0m\u001b[0;34m,\u001b[0m \u001b[0mself\u001b[0m\u001b[0;34m)\u001b[0m\u001b[0;34m\u001b[0m\u001b[0m\n",
      "\u001b[0;32m/usr/local/Cellar/python/2.7.12_2/Frameworks/Python.framework/Versions/2.7/lib/python2.7/threading.pyc\u001b[0m in \u001b[0;36mwait\u001b[0;34m(self, timeout)\u001b[0m\n\u001b[1;32m    338\u001b[0m         \u001b[0;32mtry\u001b[0m\u001b[0;34m:\u001b[0m    \u001b[0;31m# restore state no matter what (e.g., KeyboardInterrupt)\u001b[0m\u001b[0;34m\u001b[0m\u001b[0m\n\u001b[1;32m    339\u001b[0m             \u001b[0;32mif\u001b[0m \u001b[0mtimeout\u001b[0m \u001b[0;32mis\u001b[0m \u001b[0mNone\u001b[0m\u001b[0;34m:\u001b[0m\u001b[0;34m\u001b[0m\u001b[0m\n\u001b[0;32m--> 340\u001b[0;31m                 \u001b[0mwaiter\u001b[0m\u001b[0;34m.\u001b[0m\u001b[0macquire\u001b[0m\u001b[0;34m(\u001b[0m\u001b[0;34m)\u001b[0m\u001b[0;34m\u001b[0m\u001b[0m\n\u001b[0m\u001b[1;32m    341\u001b[0m                 \u001b[0;32mif\u001b[0m \u001b[0m__debug__\u001b[0m\u001b[0;34m:\u001b[0m\u001b[0;34m\u001b[0m\u001b[0m\n\u001b[1;32m    342\u001b[0m                     \u001b[0mself\u001b[0m\u001b[0;34m.\u001b[0m\u001b[0m_note\u001b[0m\u001b[0;34m(\u001b[0m\u001b[0;34m\"%s.wait(): got it\"\u001b[0m\u001b[0;34m,\u001b[0m \u001b[0mself\u001b[0m\u001b[0;34m)\u001b[0m\u001b[0;34m\u001b[0m\u001b[0m\n",
      "\u001b[0;31mKeyboardInterrupt\u001b[0m: "
     ]
    }
   ],
   "source": [
    "# t = timeit('ultimate()', 'from __main__ import ultimate', number=1)\n",
    "# print t"
   ]
  },
  {
   "cell_type": "code",
   "execution_count": null,
   "metadata": {
    "collapsed": true
   },
   "outputs": [],
   "source": []
  }
 ],
 "metadata": {
  "kernelspec": {
   "display_name": "Python 2",
   "language": "python",
   "name": "python2"
  },
  "language_info": {
   "codemirror_mode": {
    "name": "ipython",
    "version": 2
   },
   "file_extension": ".py",
   "mimetype": "text/x-python",
   "name": "python",
   "nbconvert_exporter": "python",
   "pygments_lexer": "ipython2",
   "version": "2.7.12"
  }
 },
 "nbformat": 4,
 "nbformat_minor": 2
}
